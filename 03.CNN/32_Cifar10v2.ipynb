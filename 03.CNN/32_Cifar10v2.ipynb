{
  "nbformat": 4,
  "nbformat_minor": 0,
  "metadata": {
    "colab": {
      "provenance": [],
      "gpuType": "T4"
    },
    "kernelspec": {
      "name": "python3",
      "display_name": "Python 3"
    },
    "language_info": {
      "name": "python"
    },
    "accelerator": "GPU"
  },
  "cells": [
    {
      "cell_type": "markdown",
      "source": [
        "## Cifar-10 이미지 분류 - v2\n",
        "- (Canadian Institute for Advanced Research, 10 classes)\n",
        "- 데이터 부풀리기 사용"
      ],
      "metadata": {
        "id": "FlnWXoUM6Aua"
      }
    },
    {
      "cell_type": "code",
      "execution_count": 1,
      "metadata": {
        "id": "PlRt-Te458t2"
      },
      "outputs": [],
      "source": [
        "import numpy as np\n",
        "import matplotlib.pyplot as plt\n",
        "import tensorflow as tf\n",
        "seed = 2023\n",
        "np.random.seed(seed)\n",
        "tf.random.set_seed(seed)"
      ]
    },
    {
      "cell_type": "markdown",
      "source": [
        "- 데이터 전처리"
      ],
      "metadata": {
        "id": "bWgOykrq6X_p"
      }
    },
    {
      "cell_type": "code",
      "source": [
        "from tensorflow.keras.datasets import cifar10\n",
        "(X_train, y_train), (X_test, y_test) = cifar10.load_data()"
      ],
      "metadata": {
        "colab": {
          "base_uri": "https://localhost:8080/"
        },
        "id": "P5AJYcEL6UEu",
        "outputId": "92da3f0e-7bdf-41eb-bc33-41b83ef18528"
      },
      "execution_count": 2,
      "outputs": [
        {
          "output_type": "stream",
          "name": "stdout",
          "text": [
            "Downloading data from https://www.cs.toronto.edu/~kriz/cifar-10-python.tar.gz\n",
            "170498071/170498071 [==============================] - 8s 0us/step\n"
          ]
        }
      ]
    },
    {
      "cell_type": "code",
      "source": [
        "# X data: scaling\n",
        "X_train = X_train / 255.\n",
        "X_test = X_test / 255."
      ],
      "metadata": {
        "id": "VTe0i8NU6c2x"
      },
      "execution_count": 3,
      "outputs": []
    },
    {
      "cell_type": "code",
      "source": [
        "# y data: one hote encoding\n",
        "from tensorflow.keras.utils import to_categorical\n",
        "Y_train = to_categorical(y_train)\n",
        "Y_test = to_categorical(y_test)"
      ],
      "metadata": {
        "id": "aRdYE_M96_AX"
      },
      "execution_count": 4,
      "outputs": []
    },
    {
      "cell_type": "markdown",
      "source": [
        "- 모델 정의/설정/학습/평가"
      ],
      "metadata": {
        "id": "7pnWhxsp7Blq"
      }
    },
    {
      "cell_type": "code",
      "source": [
        "from tensorflow.keras.models import Sequential, load_model\n",
        "from tensorflow.keras.layers import Dense, Conv2D, Flatten, MaxPooling2D, Dropout\n",
        "from tensorflow.keras.callbacks import ModelCheckpoint, EarlyStopping"
      ],
      "metadata": {
        "id": "yMSbg-pz7AeN"
      },
      "execution_count": 5,
      "outputs": []
    },
    {
      "cell_type": "code",
      "source": [
        "model = Sequential([\n",
        "    Conv2D(32, (3,3), input_shape=X_train.shape[1:], padding='same', activation='relu'),\n",
        "    Conv2D(32, (3,3), activation='relu'),\n",
        "    MaxPooling2D(),\n",
        "    Dropout(0.25),\n",
        "    Conv2D(64, (3,3), padding='same', activation='relu'),\n",
        "    Conv2D(64, (3,3), activation='relu'),\n",
        "    MaxPooling2D(),\n",
        "    Dropout(0.25),\n",
        "    Flatten(),\n",
        "    Dense(512, activation='relu'),\n",
        "    Dropout(0.5),\n",
        "    Dense(10, activation='softmax')\n",
        "])"
      ],
      "metadata": {
        "id": "UT3cp7Ef7Hw3"
      },
      "execution_count": 6,
      "outputs": []
    },
    {
      "cell_type": "code",
      "source": [
        "model.compile('adam', 'categorical_crossentropy', ['accuracy'])\n",
        "\n",
        "model_path = 'best-cifar10-v2.h5'\n",
        "mc = ModelCheckpoint(model_path, save_best_only=True, verbose=1)\n",
        "es = EarlyStopping(patience=5)"
      ],
      "metadata": {
        "id": "_JDfzVp67OLZ"
      },
      "execution_count": 7,
      "outputs": []
    },
    {
      "cell_type": "markdown",
      "source": [
        "- 데이터 부풀리기"
      ],
      "metadata": {
        "id": "9F4q8-tm7XvJ"
      }
    },
    {
      "cell_type": "code",
      "source": [
        "from sklearn.model_selection import train_test_split\n",
        "X_train, X_valid, Y_train, Y_valid = train_test_split(\n",
        "    X_train, Y_train, stratify=Y_train, test_size=0.2, random_state=seed\n",
        ")"
      ],
      "metadata": {
        "id": "-iTUljNx7U3E"
      },
      "execution_count": 8,
      "outputs": []
    },
    {
      "cell_type": "code",
      "source": [
        "from tensorflow.keras.preprocessing.image import ImageDataGenerator\n",
        "\n",
        "train_datagen = ImageDataGenerator(\n",
        "    rotation_range=10,           # 각도 0~ 10도\n",
        "    width_shift_range=0.1,       # 가로 이동\n",
        "    height_shift_range=0.1,      # 세로 이동\n",
        "    shear_range=0.1,             # 도형의 기울기\n",
        "    zoom_range=[0.8,1.2],        # 0.8~1.2배 크기로 임의로 확대/축소\n",
        "    horizontal_flip=True,        # 수평으로\n",
        "    vertical_flip=False,         # 수직으로\n",
        "    fill_mode='nearest'          # set mode for filling points outside the input boundaries\n",
        ")"
      ],
      "metadata": {
        "id": "7ffK73Le7315"
      },
      "execution_count": 9,
      "outputs": []
    },
    {
      "cell_type": "code",
      "source": [
        "train_datagen.fit(X_train)"
      ],
      "metadata": {
        "id": "9odXtUWH8a8W"
      },
      "execution_count": 10,
      "outputs": []
    },
    {
      "cell_type": "markdown",
      "source": [
        "- 데이터 부풀리기를 한 결과로 학습"
      ],
      "metadata": {
        "id": "9v35605f8qvE"
      }
    },
    {
      "cell_type": "code",
      "source": [
        "from keras.api._v2.keras import callbacks\n",
        "hist = model.fit(\n",
        "    train_datagen.flow(X_train, Y_train, batch_size=32),\n",
        "    validation_data=(X_valid, Y_valid),\n",
        "    epochs=100, verbose=0,\n",
        "    callbacks=[mc,es]\n",
        ")"
      ],
      "metadata": {
        "colab": {
          "base_uri": "https://localhost:8080/"
        },
        "id": "JUs4cr6D8mrb",
        "outputId": "4739a445-d917-46f6-a75c-c90e7667f1c0"
      },
      "execution_count": 11,
      "outputs": [
        {
          "output_type": "stream",
          "name": "stdout",
          "text": [
            "\n",
            "Epoch 1: val_loss improved from inf to 1.38193, saving model to best-cifar10-v2.h5\n"
          ]
        },
        {
          "output_type": "stream",
          "name": "stderr",
          "text": [
            "/usr/local/lib/python3.10/dist-packages/keras/src/engine/training.py:3079: UserWarning: You are saving your model as an HDF5 file via `model.save()`. This file format is considered legacy. We recommend using instead the native Keras format, e.g. `model.save('my_model.keras')`.\n",
            "  saving_api.save_model(\n"
          ]
        },
        {
          "output_type": "stream",
          "name": "stdout",
          "text": [
            "\n",
            "Epoch 2: val_loss did not improve from 1.38193\n",
            "\n",
            "Epoch 3: val_loss improved from 1.38193 to 1.19170, saving model to best-cifar10-v2.h5\n",
            "\n",
            "Epoch 4: val_loss improved from 1.19170 to 0.99550, saving model to best-cifar10-v2.h5\n",
            "\n",
            "Epoch 5: val_loss improved from 0.99550 to 0.96916, saving model to best-cifar10-v2.h5\n",
            "\n",
            "Epoch 6: val_loss improved from 0.96916 to 0.90130, saving model to best-cifar10-v2.h5\n",
            "\n",
            "Epoch 7: val_loss improved from 0.90130 to 0.86231, saving model to best-cifar10-v2.h5\n",
            "\n",
            "Epoch 8: val_loss improved from 0.86231 to 0.85196, saving model to best-cifar10-v2.h5\n",
            "\n",
            "Epoch 9: val_loss did not improve from 0.85196\n",
            "\n",
            "Epoch 10: val_loss improved from 0.85196 to 0.81697, saving model to best-cifar10-v2.h5\n",
            "\n",
            "Epoch 11: val_loss did not improve from 0.81697\n",
            "\n",
            "Epoch 12: val_loss improved from 0.81697 to 0.78306, saving model to best-cifar10-v2.h5\n",
            "\n",
            "Epoch 13: val_loss did not improve from 0.78306\n",
            "\n",
            "Epoch 14: val_loss did not improve from 0.78306\n",
            "\n",
            "Epoch 15: val_loss did not improve from 0.78306\n",
            "\n",
            "Epoch 16: val_loss improved from 0.78306 to 0.75029, saving model to best-cifar10-v2.h5\n",
            "\n",
            "Epoch 17: val_loss did not improve from 0.75029\n",
            "\n",
            "Epoch 18: val_loss did not improve from 0.75029\n",
            "\n",
            "Epoch 19: val_loss improved from 0.75029 to 0.74857, saving model to best-cifar10-v2.h5\n",
            "\n",
            "Epoch 20: val_loss improved from 0.74857 to 0.69236, saving model to best-cifar10-v2.h5\n",
            "\n",
            "Epoch 21: val_loss did not improve from 0.69236\n",
            "\n",
            "Epoch 22: val_loss improved from 0.69236 to 0.69111, saving model to best-cifar10-v2.h5\n",
            "\n",
            "Epoch 23: val_loss did not improve from 0.69111\n",
            "\n",
            "Epoch 24: val_loss did not improve from 0.69111\n",
            "\n",
            "Epoch 25: val_loss did not improve from 0.69111\n",
            "\n",
            "Epoch 26: val_loss improved from 0.69111 to 0.68513, saving model to best-cifar10-v2.h5\n",
            "\n",
            "Epoch 27: val_loss improved from 0.68513 to 0.67908, saving model to best-cifar10-v2.h5\n",
            "\n",
            "Epoch 28: val_loss did not improve from 0.67908\n",
            "\n",
            "Epoch 29: val_loss did not improve from 0.67908\n",
            "\n",
            "Epoch 30: val_loss did not improve from 0.67908\n",
            "\n",
            "Epoch 31: val_loss did not improve from 0.67908\n",
            "\n",
            "Epoch 32: val_loss did not improve from 0.67908\n"
          ]
        }
      ]
    },
    {
      "cell_type": "code",
      "source": [
        "best_model = load_model(model_path)\n",
        "best_model.evaluate(X_test,Y_test)"
      ],
      "metadata": {
        "colab": {
          "base_uri": "https://localhost:8080/"
        },
        "id": "jfe6zhRc9QIz",
        "outputId": "f52d07c3-5176-4857-f5b2-e50d0eaaffae"
      },
      "execution_count": 12,
      "outputs": [
        {
          "output_type": "stream",
          "name": "stdout",
          "text": [
            "313/313 [==============================] - 1s 3ms/step - loss: 0.7030 - accuracy: 0.7586\n"
          ]
        },
        {
          "output_type": "execute_result",
          "data": {
            "text/plain": [
              "[0.7029962539672852, 0.7585999965667725]"
            ]
          },
          "metadata": {},
          "execution_count": 12
        }
      ]
    }
  ]
}