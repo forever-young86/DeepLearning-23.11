{
  "cells": [
    {
      "cell_type": "markdown",
      "metadata": {
        "id": "B2r_qPLee-df"
      },
      "source": [
        "## MNIST 손글씨 = CNN v1\n",
        "- 2 X Conv2D layers\n",
        "- 1 FCN layer\n",
        "- 1 Output layer"
      ]
    },
    {
      "cell_type": "code",
      "execution_count": 1,
      "metadata": {
        "id": "df8l8CCvfKPl"
      },
      "outputs": [],
      "source": [
        "import numpy as np\n",
        "import matplotlib.pyplot as plt\n",
        "import tensorflow as tf\n",
        "seed = 2023\n",
        "np.random.seed(seed)\n",
        "tf.random.set_seed(seed)"
      ]
    },
    {
      "cell_type": "code",
      "execution_count": 2,
      "metadata": {
        "colab": {
          "base_uri": "https://localhost:8080/",
          "height": 35
        },
        "id": "qwEdWEwtfiuP",
        "outputId": "92c49c92-01f0-4abb-cfa8-235a08f2db8f"
      },
      "outputs": [
        {
          "data": {
            "application/vnd.google.colaboratory.intrinsic+json": {
              "type": "string"
            },
            "text/plain": [
              "'2.14.0'"
            ]
          },
          "execution_count": 2,
          "metadata": {},
          "output_type": "execute_result"
        }
      ],
      "source": [
        "tf.__version__"
      ]
    },
    {
      "cell_type": "markdown",
      "metadata": {
        "id": "g9LWrBkLfe-A"
      },
      "source": [
        "- 데이터 전처리"
      ]
    },
    {
      "cell_type": "code",
      "execution_count": 3,
      "metadata": {
        "colab": {
          "base_uri": "https://localhost:8080/"
        },
        "id": "Z75WeosffZdv",
        "outputId": "95863f89-7ac4-42ed-b4a8-b418f909976d"
      },
      "outputs": [
        {
          "name": "stdout",
          "output_type": "stream",
          "text": [
            "Downloading data from https://storage.googleapis.com/tensorflow/tf-keras-datasets/mnist.npz\n",
            "11490434/11490434 [==============================] - 0s 0us/step\n"
          ]
        },
        {
          "data": {
            "text/plain": [
              "((60000, 28, 28), (60000,), (10000, 28, 28), (10000,))"
            ]
          },
          "execution_count": 3,
          "metadata": {},
          "output_type": "execute_result"
        }
      ],
      "source": [
        "from tensorflow.keras.datasets import mnist\n",
        "(X_train, y_train), (X_test, y_test) = mnist.load_data()\n",
        "X_train.shape, y_train.shape, X_test.shape, y_test.shape"
      ]
    },
    {
      "cell_type": "code",
      "execution_count": 4,
      "metadata": {
        "id": "0TQybPsgf7Ft"
      },
      "outputs": [],
      "source": [
        "# X data의 차원 변경 및 정규화(0 ~ 1)\n",
        "X_train = X_train.reshape(-1, 28, 28, 1) / 255.\n",
        "X_test = X_test.reshape(-1, 28, 28, 1) / 255."
      ]
    },
    {
      "cell_type": "code",
      "execution_count": 5,
      "metadata": {
        "colab": {
          "base_uri": "https://localhost:8080/"
        },
        "id": "EEO69mAHgZlV",
        "outputId": "5b59f633-a3cd-4ac2-d074-d8842eef412b"
      },
      "outputs": [
        {
          "data": {
            "text/plain": [
              "((60000, 10), (10000, 10))"
            ]
          },
          "execution_count": 5,
          "metadata": {},
          "output_type": "execute_result"
        }
      ],
      "source": [
        "# y_data의 one-hot-encoding\n",
        "from tensorflow.keras.utils import to_categorical\n",
        "Y_train = to_categorical(y_train)\n",
        "Y_test = to_categorical(y_test)\n",
        "Y_train.shape, Y_test.shape"
      ]
    },
    {
      "cell_type": "markdown",
      "metadata": {
        "id": "pbfQLMGPg6qL"
      },
      "source": [
        "- 모델 정의/설정/학습/평가"
      ]
    },
    {
      "cell_type": "code",
      "execution_count": 6,
      "metadata": {
        "id": "GBvNxyEigxmB"
      },
      "outputs": [],
      "source": [
        "from tensorflow.keras.models import Sequential, load_model\n",
        "from tensorflow.keras.layers import Conv2D, Dense, Flatten\n",
        "from tensorflow.keras.callbacks import ModelCheckpoint, EarlyStopping\n"
      ]
    },
    {
      "cell_type": "code",
      "execution_count": 7,
      "metadata": {
        "colab": {
          "base_uri": "https://localhost:8080/"
        },
        "id": "9Mg9yxvLha0Q",
        "outputId": "066b41a1-0dcf-4df6-8a41-ea60abd938f7"
      },
      "outputs": [
        {
          "name": "stdout",
          "output_type": "stream",
          "text": [
            "Model: \"sequential\"\n",
            "_________________________________________________________________\n",
            " Layer (type)                Output Shape              Param #   \n",
            "=================================================================\n",
            " conv2d (Conv2D)             (None, 26, 26, 32)        320       \n",
            "                                                                 \n",
            " conv2d_1 (Conv2D)           (None, 24, 24, 64)        18496     \n",
            "                                                                 \n",
            " flatten (Flatten)           (None, 36864)             0         \n",
            "                                                                 \n",
            " dense (Dense)               (None, 512)               18874880  \n",
            "                                                                 \n",
            " dense_1 (Dense)             (None, 10)                5130      \n",
            "                                                                 \n",
            "=================================================================\n",
            "Total params: 18898826 (72.09 MB)\n",
            "Trainable params: 18898826 (72.09 MB)\n",
            "Non-trainable params: 0 (0.00 Byte)\n",
            "_________________________________________________________________\n"
          ]
        }
      ],
      "source": [
        "model = Sequential([\n",
        "    Conv2D(32, kernel_size=(3,3), input_shape=(28,28,1), activation='relu'),\n",
        "    Conv2D(64, (3,3), activation='relu'),     # 노드갯수, 커널사이즈 순으로 작성\n",
        "    Flatten(),\n",
        "    Dense(512, activation='relu'),\n",
        "    Dense(10, activation='softmax')\n",
        "])\n",
        "model.summary()"
      ]
    },
    {
      "cell_type": "code",
      "execution_count": 8,
      "metadata": {
        "id": "fvz-P6gwiPGh"
      },
      "outputs": [],
      "source": [
        "model.compile('adam', 'categorical_crossentropy', metrics=['accuracy'])"
      ]
    },
    {
      "cell_type": "code",
      "execution_count": 9,
      "metadata": {
        "colab": {
          "base_uri": "https://localhost:8080/"
        },
        "id": "r7fg-WhckNUa",
        "outputId": "2f94aa26-97fa-4665-c63b-f4a00b5e6b70"
      },
      "outputs": [
        {
          "name": "stdout",
          "output_type": "stream",
          "text": [
            "total 8\n",
            "drwxr-xr-x 2 root root 4096 Nov  8 01:41 models\n",
            "drwxr-xr-x 1 root root 4096 Nov  6 14:20 sample_data\n"
          ]
        }
      ],
      "source": [
        "!mkdir models       # ! 는 리눅스 명령어, mkdir = 디렉토리를 만들겠다\n",
        "!ls -l              # ls -l 파일, 디렉토리 정보와 함께 세로로 리스트를 출력"
      ]
    },
    {
      "cell_type": "code",
      "execution_count": 10,
      "metadata": {
        "id": "rT03qp9Yj9W_"
      },
      "outputs": [],
      "source": [
        "model_path = 'models/best-mnist-v1.h5'\n",
        "mc = ModelCheckpoint(model_path, save_best_only=True, verbose=1)\n",
        "es = EarlyStopping(patience=10)"
      ]
    },
    {
      "cell_type": "code",
      "execution_count": 11,
      "metadata": {
        "colab": {
          "base_uri": "https://localhost:8080/"
        },
        "id": "RXpjTDHDk-Wm",
        "outputId": "18952c42-1278-45aa-bcbc-296c008cf13b"
      },
      "outputs": [
        {
          "name": "stdout",
          "output_type": "stream",
          "text": [
            "Epoch 1/100\n",
            "188/188 [==============================] - ETA: 0s - loss: 0.1698 - accuracy: 0.9467\n",
            "Epoch 1: val_loss improved from inf to 0.05843, saving model to models/best-mnist-v1.h5\n"
          ]
        },
        {
          "name": "stderr",
          "output_type": "stream",
          "text": [
            "/usr/local/lib/python3.10/dist-packages/keras/src/engine/training.py:3079: UserWarning: You are saving your model as an HDF5 file via `model.save()`. This file format is considered legacy. We recommend using instead the native Keras format, e.g. `model.save('my_model.keras')`.\n",
            "  saving_api.save_model(\n"
          ]
        },
        {
          "name": "stdout",
          "output_type": "stream",
          "text": [
            "\b\b\b\b\b\b\b\b\b\b\b\b\b\b\b\b\b\b\b\b\b\b\b\b\b\b\b\b\b\b\b\b\b\b\b\b\b\b\b\b\b\b\b\b\b\b\b\b\b\b\b\b\b\b\b\b\b\b\b\b\b\b\b\b\b\b\b\b\b\b\b\b\b\b\b\b\b\b\b\b\b\b\b\b\r188/188 [==============================] - 15s 26ms/step - loss: 0.1698 - accuracy: 0.9467 - val_loss: 0.0584 - val_accuracy: 0.9829\n",
            "Epoch 2/100\n",
            "187/188 [============================>.] - ETA: 0s - loss: 0.0415 - accuracy: 0.9872\n",
            "Epoch 2: val_loss improved from 0.05843 to 0.04933, saving model to models/best-mnist-v1.h5\n",
            "188/188 [==============================] - 5s 25ms/step - loss: 0.0414 - accuracy: 0.9872 - val_loss: 0.0493 - val_accuracy: 0.9855\n",
            "Epoch 3/100\n",
            "187/188 [============================>.] - ETA: 0s - loss: 0.0192 - accuracy: 0.9938\n",
            "Epoch 3: val_loss did not improve from 0.04933\n",
            "188/188 [==============================] - 4s 21ms/step - loss: 0.0192 - accuracy: 0.9938 - val_loss: 0.0567 - val_accuracy: 0.9849\n",
            "Epoch 4/100\n",
            "187/188 [============================>.] - ETA: 0s - loss: 0.0111 - accuracy: 0.9965\n",
            "Epoch 4: val_loss did not improve from 0.04933\n",
            "188/188 [==============================] - 4s 21ms/step - loss: 0.0111 - accuracy: 0.9965 - val_loss: 0.0539 - val_accuracy: 0.9849\n",
            "Epoch 5/100\n",
            "187/188 [============================>.] - ETA: 0s - loss: 0.0061 - accuracy: 0.9981\n",
            "Epoch 5: val_loss did not improve from 0.04933\n",
            "188/188 [==============================] - 4s 21ms/step - loss: 0.0061 - accuracy: 0.9981 - val_loss: 0.0625 - val_accuracy: 0.9860\n",
            "Epoch 6/100\n",
            "187/188 [============================>.] - ETA: 0s - loss: 0.0043 - accuracy: 0.9988\n",
            "Epoch 6: val_loss did not improve from 0.04933\n",
            "188/188 [==============================] - 4s 22ms/step - loss: 0.0043 - accuracy: 0.9988 - val_loss: 0.0666 - val_accuracy: 0.9844\n",
            "Epoch 7/100\n",
            "187/188 [============================>.] - ETA: 0s - loss: 0.0029 - accuracy: 0.9990\n",
            "Epoch 7: val_loss did not improve from 0.04933\n",
            "188/188 [==============================] - 4s 21ms/step - loss: 0.0029 - accuracy: 0.9990 - val_loss: 0.0733 - val_accuracy: 0.9848\n",
            "Epoch 8/100\n",
            "187/188 [============================>.] - ETA: 0s - loss: 0.0046 - accuracy: 0.9985\n",
            "Epoch 8: val_loss did not improve from 0.04933\n",
            "188/188 [==============================] - 4s 21ms/step - loss: 0.0046 - accuracy: 0.9985 - val_loss: 0.0671 - val_accuracy: 0.9862\n",
            "Epoch 9/100\n",
            "187/188 [============================>.] - ETA: 0s - loss: 0.0069 - accuracy: 0.9977\n",
            "Epoch 9: val_loss did not improve from 0.04933\n",
            "188/188 [==============================] - 4s 21ms/step - loss: 0.0069 - accuracy: 0.9977 - val_loss: 0.0685 - val_accuracy: 0.9866\n",
            "Epoch 10/100\n",
            "187/188 [============================>.] - ETA: 0s - loss: 0.0063 - accuracy: 0.9977\n",
            "Epoch 10: val_loss did not improve from 0.04933\n",
            "188/188 [==============================] - 4s 21ms/step - loss: 0.0063 - accuracy: 0.9977 - val_loss: 0.0548 - val_accuracy: 0.9867\n",
            "Epoch 11/100\n",
            "187/188 [============================>.] - ETA: 0s - loss: 0.0035 - accuracy: 0.9987\n",
            "Epoch 11: val_loss did not improve from 0.04933\n",
            "188/188 [==============================] - 4s 21ms/step - loss: 0.0035 - accuracy: 0.9987 - val_loss: 0.0773 - val_accuracy: 0.9858\n",
            "Epoch 12/100\n",
            "187/188 [============================>.] - ETA: 0s - loss: 0.0045 - accuracy: 0.9986\n",
            "Epoch 12: val_loss did not improve from 0.04933\n",
            "188/188 [==============================] - 4s 21ms/step - loss: 0.0045 - accuracy: 0.9985 - val_loss: 0.0654 - val_accuracy: 0.9874\n"
          ]
        }
      ],
      "source": [
        "hist = model.fit(\n",
        "    X_train, Y_train, validation_split=0.2, epochs=100, batch_size=256,\n",
        "    callbacks=[mc,es]\n",
        ")"
      ]
    },
    {
      "cell_type": "code",
      "execution_count": 12,
      "metadata": {
        "colab": {
          "base_uri": "https://localhost:8080/"
        },
        "id": "DOR5K0mGlatP",
        "outputId": "32ea65c6-3253-406a-8e23-47dbf718567b"
      },
      "outputs": [
        {
          "name": "stdout",
          "output_type": "stream",
          "text": [
            "313/313 [==============================] - 1s 4ms/step - loss: 0.0411 - accuracy: 0.9873\n"
          ]
        },
        {
          "data": {
            "text/plain": [
              "[0.04110317677259445, 0.9872999787330627]"
            ]
          },
          "execution_count": 12,
          "metadata": {},
          "output_type": "execute_result"
        }
      ],
      "source": [
        "best_model = load_model(model_path)\n",
        "best_model.evaluate(X_test,Y_test)"
      ]
    },
    {
      "cell_type": "markdown",
      "metadata": {
        "id": "ZoZZCOM5mkOj"
      },
      "source": [
        "- 학습 과정 시각화"
      ]
    },
    {
      "cell_type": "code",
      "execution_count": 13,
      "metadata": {
        "id": "1K0s-4qomv3j"
      },
      "outputs": [],
      "source": [
        "y_acc = hist.history['accuracy']\n",
        "y_vloss = hist.history['val_loss']\n",
        "xs = np.arange(1, len(y_acc)+1)"
      ]
    },
    {
      "cell_type": "code",
      "execution_count": 15,
      "metadata": {
        "colab": {
          "base_uri": "https://localhost:8080/",
          "height": 520
        },
        "id": "5YwaLHBEmco0",
        "outputId": "7cefff1b-90a7-4076-f17f-52052e134c8a"
      },
      "outputs": [
        {
          "data": {
            "image/png": "[encoded data removed]",
            "text/plain": [
              "<Figure size 1200x600 with 1 Axes>"
            ]
          },
          "metadata": {},
          "output_type": "display_data"
        }
      ],
      "source": [
        "plt.figure(figsize=(12,6))\n",
        "plt.plot(xs, y_acc, label='train accuracy')\n",
        "plt.plot(xs, y_vloss, label='validation loss')\n",
        "plt.legend(), plt.grid(), plt.xlabel('epoch')\n",
        "plt.title('MNIST CNN Model v1')\n",
        "plt.show()"
      ]
    },
    {
      "cell_type": "code",
      "execution_count": null,
      "metadata": {
        "id": "YVLWEyu4mycQ"
      },
      "outputs": [],
      "source": []
    }
  ],
  "metadata": {
    "accelerator": "GPU",
    "colab": {
      "gpuType": "T4",
      "provenance": []
    },
    "kernelspec": {
      "display_name": "Python 3",
      "name": "python3"
    },
    "language_info": {
      "name": "python"
    }
  },
  "nbformat": 4,
  "nbformat_minor": 0
}
