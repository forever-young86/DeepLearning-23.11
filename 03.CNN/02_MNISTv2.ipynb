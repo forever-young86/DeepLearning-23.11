{
  "nbformat": 4,
  "nbformat_minor": 0,
  "metadata": {
    "colab": {
      "provenance": [],
      "gpuType": "T4"
    },
    "kernelspec": {
      "name": "python3",
      "display_name": "Python 3"
    },
    "language_info": {
      "name": "python"
    },
    "accelerator": "GPU"
  },
  "cells": [
    {
      "cell_type": "markdown",
      "source": [
        "## MNIST 손글씨 = CNN v2\n",
        "- 2 X Conv2D layers\n",
        "- 1 MaxPooling2D layer\n",
        "- 1 FCN layer\n",
        "- 1 Output layer"
      ],
      "metadata": {
        "id": "B2r_qPLee-df"
      }
    },
    {
      "cell_type": "code",
      "source": [
        "import numpy as np\n",
        "import matplotlib.pyplot as plt\n",
        "import tensorflow as tf\n",
        "seed = 2023\n",
        "np.random.seed(seed)\n",
        "tf.random.set_seed(seed)"
      ],
      "metadata": {
        "id": "df8l8CCvfKPl"
      },
      "execution_count": 1,
      "outputs": []
    },
    {
      "cell_type": "code",
      "source": [
        "tf.__version__"
      ],
      "metadata": {
        "colab": {
          "base_uri": "https://localhost:8080/",
          "height": 35
        },
        "id": "qwEdWEwtfiuP",
        "outputId": "4cf2fd5d-eaba-4942-86f3-8730b111a771"
      },
      "execution_count": 2,
      "outputs": [
        {
          "output_type": "execute_result",
          "data": {
            "text/plain": [
              "'2.14.0'"
            ],
            "application/vnd.google.colaboratory.intrinsic+json": {
              "type": "string"
            }
          },
          "metadata": {},
          "execution_count": 2
        }
      ]
    },
    {
      "cell_type": "markdown",
      "source": [
        "- 데이터 전처리"
      ],
      "metadata": {
        "id": "g9LWrBkLfe-A"
      }
    },
    {
      "cell_type": "code",
      "source": [
        "from tensorflow.keras.datasets import mnist\n",
        "(X_train, y_train), (X_test, y_test) = mnist.load_data()\n",
        "X_train.shape, y_train.shape, X_test.shape, y_test.shape"
      ],
      "metadata": {
        "colab": {
          "base_uri": "https://localhost:8080/"
        },
        "id": "Z75WeosffZdv",
        "outputId": "0eea92c4-0862-45d1-dbaa-6540c5ed4885"
      },
      "execution_count": 3,
      "outputs": [
        {
          "output_type": "stream",
          "name": "stdout",
          "text": [
            "Downloading data from https://storage.googleapis.com/tensorflow/tf-keras-datasets/mnist.npz\n",
            "11490434/11490434 [==============================] - 1s 0us/step\n"
          ]
        },
        {
          "output_type": "execute_result",
          "data": {
            "text/plain": [
              "((60000, 28, 28), (60000,), (10000, 28, 28), (10000,))"
            ]
          },
          "metadata": {},
          "execution_count": 3
        }
      ]
    },
    {
      "cell_type": "code",
      "source": [
        "# X data의 차원 변경 및 정규화(0 ~ 1)\n",
        "X_train = X_train.reshape(-1, 28, 28, 1) / 255.\n",
        "X_test = X_test.reshape(-1, 28, 28, 1) / 255."
      ],
      "metadata": {
        "id": "0TQybPsgf7Ft"
      },
      "execution_count": 4,
      "outputs": []
    },
    {
      "cell_type": "code",
      "source": [
        "# y_data의 one-hot-encoding\n",
        "from tensorflow.keras.utils import to_categorical\n",
        "Y_train = to_categorical(y_train)\n",
        "Y_test = to_categorical(y_test)\n",
        "Y_train.shape, Y_test.shape"
      ],
      "metadata": {
        "colab": {
          "base_uri": "https://localhost:8080/"
        },
        "id": "EEO69mAHgZlV",
        "outputId": "58c7e82c-e9cb-4648-f7c9-e80c56f315f0"
      },
      "execution_count": 5,
      "outputs": [
        {
          "output_type": "execute_result",
          "data": {
            "text/plain": [
              "((60000, 10), (10000, 10))"
            ]
          },
          "metadata": {},
          "execution_count": 5
        }
      ]
    },
    {
      "cell_type": "markdown",
      "source": [
        "- 모델 정의/설정/학습/평가"
      ],
      "metadata": {
        "id": "pbfQLMGPg6qL"
      }
    },
    {
      "cell_type": "code",
      "source": [
        "from tensorflow.keras.models import Sequential, load_model\n",
        "from tensorflow.keras.layers import Conv2D, Dense, Flatten, MaxPooling2D\n",
        "from tensorflow.keras.callbacks import ModelCheckpoint, EarlyStopping\n"
      ],
      "metadata": {
        "id": "GBvNxyEigxmB"
      },
      "execution_count": 6,
      "outputs": []
    },
    {
      "cell_type": "code",
      "source": [
        "model = Sequential([\n",
        "    Conv2D(32, kernel_size=(3,3), input_shape=(28,28,1), activation='relu'),\n",
        "    Conv2D(64, (3,3), activation='relu'),     # 노드갯수, 커널사이즈 순으로 작성\n",
        "    MaxPooling2D(),              # MaxPooling2D(pool_size=(2,2))로 써도 됨\n",
        "    Flatten(),\n",
        "    Dense(512, activation='relu'),\n",
        "    Dense(10, activation='softmax')\n",
        "])\n",
        "model.summary()"
      ],
      "metadata": {
        "colab": {
          "base_uri": "https://localhost:8080/"
        },
        "id": "9Mg9yxvLha0Q",
        "outputId": "d7371639-fd1f-49c0-da61-dfef9895899a"
      },
      "execution_count": 7,
      "outputs": [
        {
          "output_type": "stream",
          "name": "stdout",
          "text": [
            "Model: \"sequential\"\n",
            "_________________________________________________________________\n",
            " Layer (type)                Output Shape              Param #   \n",
            "=================================================================\n",
            " conv2d (Conv2D)             (None, 26, 26, 32)        320       \n",
            "                                                                 \n",
            " conv2d_1 (Conv2D)           (None, 24, 24, 64)        18496     \n",
            "                                                                 \n",
            " max_pooling2d (MaxPooling2  (None, 12, 12, 64)        0         \n",
            " D)                                                              \n",
            "                                                                 \n",
            " flatten (Flatten)           (None, 9216)              0         \n",
            "                                                                 \n",
            " dense (Dense)               (None, 512)               4719104   \n",
            "                                                                 \n",
            " dense_1 (Dense)             (None, 10)                5130      \n",
            "                                                                 \n",
            "=================================================================\n",
            "Total params: 4743050 (18.09 MB)\n",
            "Trainable params: 4743050 (18.09 MB)\n",
            "Non-trainable params: 0 (0.00 Byte)\n",
            "_________________________________________________________________\n"
          ]
        }
      ]
    },
    {
      "cell_type": "code",
      "source": [
        "model.compile('adam', 'categorical_crossentropy', metrics=['accuracy'])"
      ],
      "metadata": {
        "id": "fvz-P6gwiPGh"
      },
      "execution_count": 8,
      "outputs": []
    },
    {
      "cell_type": "code",
      "source": [
        "!mkdir models       # ! 는 리눅스 명령어, mkdir = 디렉토리를 만들겠다\n",
        "!ls -l"
      ],
      "metadata": {
        "colab": {
          "base_uri": "https://localhost:8080/"
        },
        "id": "r7fg-WhckNUa",
        "outputId": "939e60fc-9474-4dd1-f3a8-a17985584d4b"
      },
      "execution_count": 9,
      "outputs": [
        {
          "output_type": "stream",
          "name": "stdout",
          "text": [
            "total 8\n",
            "drwxr-xr-x 2 root root 4096 Nov  8 02:05 models\n",
            "drwxr-xr-x 1 root root 4096 Nov  6 14:20 sample_data\n"
          ]
        }
      ]
    },
    {
      "cell_type": "code",
      "source": [
        "model_path = 'models/best-mnist-v2.h5'\n",
        "mc = ModelCheckpoint(model_path, save_best_only=True, verbose=1)\n",
        "es = EarlyStopping(patience=5)"
      ],
      "metadata": {
        "id": "rT03qp9Yj9W_"
      },
      "execution_count": 10,
      "outputs": []
    },
    {
      "cell_type": "code",
      "source": [
        "hist = model.fit(\n",
        "    X_train, Y_train, validation_split=0.2, epochs=100, batch_size=256,\n",
        "    callbacks=[mc,es]\n",
        ")"
      ],
      "metadata": {
        "colab": {
          "base_uri": "https://localhost:8080/"
        },
        "id": "RXpjTDHDk-Wm",
        "outputId": "c2fccd78-9eb1-40be-a21e-23f8c6bbbe43"
      },
      "execution_count": 11,
      "outputs": [
        {
          "output_type": "stream",
          "name": "stdout",
          "text": [
            "Epoch 1/100\n",
            "188/188 [==============================] - ETA: 0s - loss: 0.2012 - accuracy: 0.9404\n",
            "Epoch 1: val_loss improved from inf to 0.06049, saving model to models/best-mnist-v2.h5\n",
            "188/188 [==============================] - 16s 18ms/step - loss: 0.2012 - accuracy: 0.9404 - val_loss: 0.0605 - val_accuracy: 0.9831\n",
            "Epoch 2/100\n",
            "  6/188 [..............................] - ETA: 2s - loss: 0.0531 - accuracy: 0.9818"
          ]
        },
        {
          "output_type": "stream",
          "name": "stderr",
          "text": [
            "/usr/local/lib/python3.10/dist-packages/keras/src/engine/training.py:3079: UserWarning: You are saving your model as an HDF5 file via `model.save()`. This file format is considered legacy. We recommend using instead the native Keras format, e.g. `model.save('my_model.keras')`.\n",
            "  saving_api.save_model(\n"
          ]
        },
        {
          "output_type": "stream",
          "name": "stdout",
          "text": [
            "185/188 [============================>.] - ETA: 0s - loss: 0.0490 - accuracy: 0.9847\n",
            "Epoch 2: val_loss improved from 0.06049 to 0.04435, saving model to models/best-mnist-v2.h5\n",
            "188/188 [==============================] - 3s 15ms/step - loss: 0.0488 - accuracy: 0.9847 - val_loss: 0.0443 - val_accuracy: 0.9872\n",
            "Epoch 3/100\n",
            "185/188 [============================>.] - ETA: 0s - loss: 0.0277 - accuracy: 0.9912\n",
            "Epoch 3: val_loss did not improve from 0.04435\n",
            "188/188 [==============================] - 3s 14ms/step - loss: 0.0277 - accuracy: 0.9911 - val_loss: 0.0474 - val_accuracy: 0.9862\n",
            "Epoch 4/100\n",
            "188/188 [==============================] - ETA: 0s - loss: 0.0174 - accuracy: 0.9944\n",
            "Epoch 4: val_loss improved from 0.04435 to 0.04150, saving model to models/best-mnist-v2.h5\n",
            "188/188 [==============================] - 3s 14ms/step - loss: 0.0174 - accuracy: 0.9944 - val_loss: 0.0415 - val_accuracy: 0.9879\n",
            "Epoch 5/100\n",
            "185/188 [============================>.] - ETA: 0s - loss: 0.0116 - accuracy: 0.9962\n",
            "Epoch 5: val_loss did not improve from 0.04150\n",
            "188/188 [==============================] - 3s 15ms/step - loss: 0.0116 - accuracy: 0.9962 - val_loss: 0.0448 - val_accuracy: 0.9888\n",
            "Epoch 6/100\n",
            "184/188 [============================>.] - ETA: 0s - loss: 0.0067 - accuracy: 0.9981\n",
            "Epoch 6: val_loss did not improve from 0.04150\n",
            "188/188 [==============================] - 3s 15ms/step - loss: 0.0066 - accuracy: 0.9981 - val_loss: 0.0421 - val_accuracy: 0.9883\n",
            "Epoch 7/100\n",
            "187/188 [============================>.] - ETA: 0s - loss: 0.0053 - accuracy: 0.9983\n",
            "Epoch 7: val_loss did not improve from 0.04150\n",
            "188/188 [==============================] - 3s 15ms/step - loss: 0.0053 - accuracy: 0.9983 - val_loss: 0.0570 - val_accuracy: 0.9868\n",
            "Epoch 8/100\n",
            "185/188 [============================>.] - ETA: 0s - loss: 0.0060 - accuracy: 0.9980\n",
            "Epoch 8: val_loss did not improve from 0.04150\n",
            "188/188 [==============================] - 3s 14ms/step - loss: 0.0059 - accuracy: 0.9980 - val_loss: 0.0443 - val_accuracy: 0.9898\n",
            "Epoch 9/100\n",
            "184/188 [============================>.] - ETA: 0s - loss: 0.0048 - accuracy: 0.9986\n",
            "Epoch 9: val_loss did not improve from 0.04150\n",
            "188/188 [==============================] - 3s 14ms/step - loss: 0.0049 - accuracy: 0.9986 - val_loss: 0.0472 - val_accuracy: 0.9897\n"
          ]
        }
      ]
    },
    {
      "cell_type": "code",
      "source": [
        "best_model = load_model(model_path)\n",
        "best_model.evaluate(X_test,Y_test)"
      ],
      "metadata": {
        "colab": {
          "base_uri": "https://localhost:8080/"
        },
        "id": "DOR5K0mGlatP",
        "outputId": "61f00e97-5775-433c-e35e-0fa71952ac62"
      },
      "execution_count": 12,
      "outputs": [
        {
          "output_type": "stream",
          "name": "stdout",
          "text": [
            "313/313 [==============================] - 1s 3ms/step - loss: 0.0341 - accuracy: 0.9894\n"
          ]
        },
        {
          "output_type": "execute_result",
          "data": {
            "text/plain": [
              "[0.034077223390340805, 0.9894000291824341]"
            ]
          },
          "metadata": {},
          "execution_count": 12
        }
      ]
    },
    {
      "cell_type": "markdown",
      "source": [
        "- 학습 과정 시각화"
      ],
      "metadata": {
        "id": "ZoZZCOM5mkOj"
      }
    },
    {
      "cell_type": "code",
      "source": [
        "y_acc = hist.history['accuracy']\n",
        "y_vloss = hist.history['val_loss']\n",
        "xs = np.arange(1, len(y_acc)+1)"
      ],
      "metadata": {
        "id": "1K0s-4qomv3j"
      },
      "execution_count": 13,
      "outputs": []
    },
    {
      "cell_type": "code",
      "source": [
        "plt.figure(figsize=(12,6))\n",
        "plt.plot(xs, y_acc, label='train accuracy')\n",
        "plt.plot(xs, y_vloss, label='validation loss')\n",
        "plt.legend(), plt.grid(), plt.xlabel('epoch')\n",
        "plt.title('MNIST CNN Model v2')\n",
        "plt.show()"
      ],
      "metadata": {
        "colab": {
          "base_uri": "https://localhost:8080/",
          "height": 520
        },
        "id": "5YwaLHBEmco0",
        "outputId": "3eabc893-5e0b-493b-da72-bf8b20bce29d"
      },
      "execution_count": 14,
      "outputs": [
        {
          "output_type": "display_data",
          "data": {
            "text/plain": [
              "<Figure size 1200x600 with 1 Axes>"
            ],
            "image/png": "[encoded data removed]"
          },
          "metadata": {}
        }
      ]
    },
    {
      "cell_type": "code",
      "source": [],
      "metadata": {
        "id": "YVLWEyu4mycQ"
      },
      "execution_count": 14,
      "outputs": []
    }
  ]
}