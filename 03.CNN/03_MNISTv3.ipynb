{
  "nbformat": 4,
  "nbformat_minor": 0,
  "metadata": {
    "colab": {
      "provenance": [],
      "gpuType": "T4"
    },
    "kernelspec": {
      "name": "python3",
      "display_name": "Python 3"
    },
    "language_info": {
      "name": "python"
    },
    "accelerator": "GPU"
  },
  "cells": [
    {
      "cell_type": "markdown",
      "source": [
        "## MNIST 손글씨 = CNN v3\n",
        "- 2 X Conv2D layers\n",
        "- 1 MaxPooling2D layer\n",
        "- 1 Dropout(0.25) layer\n",
        "- 1 FCN layer\n",
        "- 1 Dropout(0.5) layer\n",
        "- 1 Output layer"
      ],
      "metadata": {
        "id": "B2r_qPLee-df"
      }
    },
    {
      "cell_type": "code",
      "source": [
        "import numpy as np\n",
        "import matplotlib.pyplot as plt\n",
        "import tensorflow as tf\n",
        "seed = 2023\n",
        "np.random.seed(seed)\n",
        "tf.random.set_seed(seed)"
      ],
      "metadata": {
        "id": "df8l8CCvfKPl"
      },
      "execution_count": 1,
      "outputs": []
    },
    {
      "cell_type": "code",
      "source": [
        "tf.__version__"
      ],
      "metadata": {
        "colab": {
          "base_uri": "https://localhost:8080/",
          "height": 35
        },
        "id": "qwEdWEwtfiuP",
        "outputId": "3b96fb67-9bf8-4c58-996b-cc670ba2c463"
      },
      "execution_count": 2,
      "outputs": [
        {
          "output_type": "execute_result",
          "data": {
            "text/plain": [
              "'2.14.0'"
            ],
            "application/vnd.google.colaboratory.intrinsic+json": {
              "type": "string"
            }
          },
          "metadata": {},
          "execution_count": 2
        }
      ]
    },
    {
      "cell_type": "markdown",
      "source": [
        "- 데이터 전처리"
      ],
      "metadata": {
        "id": "g9LWrBkLfe-A"
      }
    },
    {
      "cell_type": "code",
      "source": [
        "from tensorflow.keras.datasets import mnist\n",
        "(X_train, y_train), (X_test, y_test) = mnist.load_data()\n",
        "X_train.shape, y_train.shape, X_test.shape, y_test.shape"
      ],
      "metadata": {
        "colab": {
          "base_uri": "https://localhost:8080/"
        },
        "id": "Z75WeosffZdv",
        "outputId": "060a6623-940d-4648-f677-e4472a53f966"
      },
      "execution_count": 3,
      "outputs": [
        {
          "output_type": "stream",
          "name": "stdout",
          "text": [
            "Downloading data from https://storage.googleapis.com/tensorflow/tf-keras-datasets/mnist.npz\n",
            "11490434/11490434 [==============================] - 0s 0us/step\n"
          ]
        },
        {
          "output_type": "execute_result",
          "data": {
            "text/plain": [
              "((60000, 28, 28), (60000,), (10000, 28, 28), (10000,))"
            ]
          },
          "metadata": {},
          "execution_count": 3
        }
      ]
    },
    {
      "cell_type": "code",
      "source": [
        "# X data의 차원 변경 및 정규화(0 ~ 1)\n",
        "X_train = X_train.reshape(-1, 28, 28, 1) / 255.\n",
        "X_test = X_test.reshape(-1, 28, 28, 1) / 255."
      ],
      "metadata": {
        "id": "0TQybPsgf7Ft"
      },
      "execution_count": 4,
      "outputs": []
    },
    {
      "cell_type": "code",
      "source": [
        "# y_data의 one-hot-encoding\n",
        "from tensorflow.keras.utils import to_categorical\n",
        "Y_train = to_categorical(y_train)\n",
        "Y_test = to_categorical(y_test)\n",
        "Y_train.shape, Y_test.shape"
      ],
      "metadata": {
        "colab": {
          "base_uri": "https://localhost:8080/"
        },
        "id": "EEO69mAHgZlV",
        "outputId": "82357339-c9e7-4602-8ceb-d282c1231ee3"
      },
      "execution_count": 5,
      "outputs": [
        {
          "output_type": "execute_result",
          "data": {
            "text/plain": [
              "((60000, 10), (10000, 10))"
            ]
          },
          "metadata": {},
          "execution_count": 5
        }
      ]
    },
    {
      "cell_type": "markdown",
      "source": [
        "- 모델 정의/설정/학습/평가"
      ],
      "metadata": {
        "id": "pbfQLMGPg6qL"
      }
    },
    {
      "cell_type": "code",
      "source": [
        "from tensorflow.keras.models import Sequential, load_model\n",
        "from tensorflow.keras.layers import Conv2D, Dense, Flatten, MaxPooling2D, Dropout\n",
        "from tensorflow.keras.callbacks import ModelCheckpoint, EarlyStopping\n"
      ],
      "metadata": {
        "id": "GBvNxyEigxmB"
      },
      "execution_count": 6,
      "outputs": []
    },
    {
      "cell_type": "code",
      "source": [
        "model = Sequential([\n",
        "    Conv2D(32, kernel_size=(3,3), input_shape=(28,28,1), activation='relu'),\n",
        "    Conv2D(64, (3,3), activation='relu'),     # 노드갯수, 커널사이즈 순으로 작성\n",
        "    MaxPooling2D(),              # MaxPooling2D(pool_size=(2,2))로 써도 됨\n",
        "    Dropout(0.25),\n",
        "    Flatten(),\n",
        "    Dense(512, activation='relu'),\n",
        "    Dropout(0.5),\n",
        "    Dense(10, activation='softmax')\n",
        "])\n",
        "model.summary()"
      ],
      "metadata": {
        "colab": {
          "base_uri": "https://localhost:8080/"
        },
        "id": "9Mg9yxvLha0Q",
        "outputId": "f3c15c9e-558a-4e0e-ae8b-05ec760993e3"
      },
      "execution_count": 7,
      "outputs": [
        {
          "output_type": "stream",
          "name": "stdout",
          "text": [
            "Model: \"sequential\"\n",
            "_________________________________________________________________\n",
            " Layer (type)                Output Shape              Param #   \n",
            "=================================================================\n",
            " conv2d (Conv2D)             (None, 26, 26, 32)        320       \n",
            "                                                                 \n",
            " conv2d_1 (Conv2D)           (None, 24, 24, 64)        18496     \n",
            "                                                                 \n",
            " max_pooling2d (MaxPooling2  (None, 12, 12, 64)        0         \n",
            " D)                                                              \n",
            "                                                                 \n",
            " dropout (Dropout)           (None, 12, 12, 64)        0         \n",
            "                                                                 \n",
            " flatten (Flatten)           (None, 9216)              0         \n",
            "                                                                 \n",
            " dense (Dense)               (None, 512)               4719104   \n",
            "                                                                 \n",
            " dropout_1 (Dropout)         (None, 512)               0         \n",
            "                                                                 \n",
            " dense_1 (Dense)             (None, 10)                5130      \n",
            "                                                                 \n",
            "=================================================================\n",
            "Total params: 4743050 (18.09 MB)\n",
            "Trainable params: 4743050 (18.09 MB)\n",
            "Non-trainable params: 0 (0.00 Byte)\n",
            "_________________________________________________________________\n"
          ]
        }
      ]
    },
    {
      "cell_type": "code",
      "source": [
        "model.compile('adam', 'categorical_crossentropy', metrics=['accuracy'])"
      ],
      "metadata": {
        "id": "fvz-P6gwiPGh"
      },
      "execution_count": 8,
      "outputs": []
    },
    {
      "cell_type": "code",
      "source": [
        "!mkdir models       # ! 는 리눅스 명령어, mkdir = 디렉토리를 만들겠다\n",
        "!ls -l"
      ],
      "metadata": {
        "colab": {
          "base_uri": "https://localhost:8080/"
        },
        "id": "r7fg-WhckNUa",
        "outputId": "03141a0e-f44f-410c-9f27-682850fc7805"
      },
      "execution_count": 9,
      "outputs": [
        {
          "output_type": "stream",
          "name": "stdout",
          "text": [
            "total 8\n",
            "drwxr-xr-x 2 root root 4096 Nov  8 02:13 models\n",
            "drwxr-xr-x 1 root root 4096 Nov  6 14:20 sample_data\n"
          ]
        }
      ]
    },
    {
      "cell_type": "code",
      "source": [
        "model_path = 'models/best-mnist-v3.h5'\n",
        "mc = ModelCheckpoint(model_path, save_best_only=True, verbose=1)\n",
        "es = EarlyStopping(patience=5)"
      ],
      "metadata": {
        "id": "rT03qp9Yj9W_"
      },
      "execution_count": 10,
      "outputs": []
    },
    {
      "cell_type": "code",
      "source": [
        "hist = model.fit(\n",
        "    X_train, Y_train, validation_split=0.2, epochs=100, batch_size=256,\n",
        "    callbacks=[mc,es]\n",
        ")"
      ],
      "metadata": {
        "colab": {
          "base_uri": "https://localhost:8080/"
        },
        "id": "RXpjTDHDk-Wm",
        "outputId": "0ea16a23-42e6-4b2c-df2b-99e803281f9d"
      },
      "execution_count": 11,
      "outputs": [
        {
          "output_type": "stream",
          "name": "stdout",
          "text": [
            "Epoch 1/100\n",
            "188/188 [==============================] - ETA: 0s - loss: 0.2416 - accuracy: 0.9261\n",
            "Epoch 1: val_loss improved from inf to 0.06088, saving model to models/best-mnist-v3.h5\n",
            "188/188 [==============================] - 15s 20ms/step - loss: 0.2416 - accuracy: 0.9261 - val_loss: 0.0609 - val_accuracy: 0.9829\n",
            "Epoch 2/100\n",
            "  1/188 [..............................] - ETA: 3s - loss: 0.0670 - accuracy: 0.9727"
          ]
        },
        {
          "output_type": "stream",
          "name": "stderr",
          "text": [
            "/usr/local/lib/python3.10/dist-packages/keras/src/engine/training.py:3079: UserWarning: You are saving your model as an HDF5 file via `model.save()`. This file format is considered legacy. We recommend using instead the native Keras format, e.g. `model.save('my_model.keras')`.\n",
            "  saving_api.save_model(\n"
          ]
        },
        {
          "output_type": "stream",
          "name": "stdout",
          "text": [
            "186/188 [============================>.] - ETA: 0s - loss: 0.0653 - accuracy: 0.9798\n",
            "Epoch 2: val_loss improved from 0.06088 to 0.04601, saving model to models/best-mnist-v3.h5\n",
            "188/188 [==============================] - 3s 18ms/step - loss: 0.0653 - accuracy: 0.9798 - val_loss: 0.0460 - val_accuracy: 0.9862\n",
            "Epoch 3/100\n",
            "187/188 [============================>.] - ETA: 0s - loss: 0.0447 - accuracy: 0.9862\n",
            "Epoch 3: val_loss improved from 0.04601 to 0.03778, saving model to models/best-mnist-v3.h5\n",
            "188/188 [==============================] - 4s 19ms/step - loss: 0.0446 - accuracy: 0.9862 - val_loss: 0.0378 - val_accuracy: 0.9874\n",
            "Epoch 4/100\n",
            "185/188 [============================>.] - ETA: 0s - loss: 0.0335 - accuracy: 0.9889\n",
            "Epoch 4: val_loss improved from 0.03778 to 0.03458, saving model to models/best-mnist-v3.h5\n",
            "188/188 [==============================] - 3s 18ms/step - loss: 0.0332 - accuracy: 0.9891 - val_loss: 0.0346 - val_accuracy: 0.9908\n",
            "Epoch 5/100\n",
            "185/188 [============================>.] - ETA: 0s - loss: 0.0267 - accuracy: 0.9913\n",
            "Epoch 5: val_loss did not improve from 0.03458\n",
            "188/188 [==============================] - 3s 17ms/step - loss: 0.0266 - accuracy: 0.9913 - val_loss: 0.0396 - val_accuracy: 0.9893\n",
            "Epoch 6/100\n",
            "185/188 [============================>.] - ETA: 0s - loss: 0.0227 - accuracy: 0.9926\n",
            "Epoch 6: val_loss did not improve from 0.03458\n",
            "188/188 [==============================] - 3s 16ms/step - loss: 0.0226 - accuracy: 0.9926 - val_loss: 0.0400 - val_accuracy: 0.9894\n",
            "Epoch 7/100\n",
            "186/188 [============================>.] - ETA: 0s - loss: 0.0186 - accuracy: 0.9939\n",
            "Epoch 7: val_loss did not improve from 0.03458\n",
            "188/188 [==============================] - 3s 17ms/step - loss: 0.0185 - accuracy: 0.9939 - val_loss: 0.0441 - val_accuracy: 0.9892\n",
            "Epoch 8/100\n",
            "188/188 [==============================] - ETA: 0s - loss: 0.0171 - accuracy: 0.9941\n",
            "Epoch 8: val_loss improved from 0.03458 to 0.03376, saving model to models/best-mnist-v3.h5\n",
            "188/188 [==============================] - 3s 17ms/step - loss: 0.0171 - accuracy: 0.9941 - val_loss: 0.0338 - val_accuracy: 0.9901\n",
            "Epoch 9/100\n",
            "187/188 [============================>.] - ETA: 0s - loss: 0.0145 - accuracy: 0.9950\n",
            "Epoch 9: val_loss did not improve from 0.03376\n",
            "188/188 [==============================] - 3s 17ms/step - loss: 0.0146 - accuracy: 0.9950 - val_loss: 0.0344 - val_accuracy: 0.9913\n",
            "Epoch 10/100\n",
            "187/188 [============================>.] - ETA: 0s - loss: 0.0143 - accuracy: 0.9952\n",
            "Epoch 10: val_loss improved from 0.03376 to 0.03163, saving model to models/best-mnist-v3.h5\n",
            "188/188 [==============================] - 3s 17ms/step - loss: 0.0142 - accuracy: 0.9952 - val_loss: 0.0316 - val_accuracy: 0.9915\n",
            "Epoch 11/100\n",
            "186/188 [============================>.] - ETA: 0s - loss: 0.0121 - accuracy: 0.9957\n",
            "Epoch 11: val_loss did not improve from 0.03163\n",
            "188/188 [==============================] - 3s 18ms/step - loss: 0.0121 - accuracy: 0.9957 - val_loss: 0.0407 - val_accuracy: 0.9895\n",
            "Epoch 12/100\n",
            "188/188 [==============================] - ETA: 0s - loss: 0.0110 - accuracy: 0.9960\n",
            "Epoch 12: val_loss did not improve from 0.03163\n",
            "188/188 [==============================] - 3s 17ms/step - loss: 0.0110 - accuracy: 0.9960 - val_loss: 0.0399 - val_accuracy: 0.9903\n",
            "Epoch 13/100\n",
            "188/188 [==============================] - ETA: 0s - loss: 0.0104 - accuracy: 0.9968\n",
            "Epoch 13: val_loss did not improve from 0.03163\n",
            "188/188 [==============================] - 3s 17ms/step - loss: 0.0104 - accuracy: 0.9968 - val_loss: 0.0381 - val_accuracy: 0.9909\n",
            "Epoch 14/100\n",
            "186/188 [============================>.] - ETA: 0s - loss: 0.0097 - accuracy: 0.9966\n",
            "Epoch 14: val_loss did not improve from 0.03163\n",
            "188/188 [==============================] - 3s 17ms/step - loss: 0.0097 - accuracy: 0.9966 - val_loss: 0.0376 - val_accuracy: 0.9908\n",
            "Epoch 15/100\n",
            "188/188 [==============================] - ETA: 0s - loss: 0.0083 - accuracy: 0.9971\n",
            "Epoch 15: val_loss did not improve from 0.03163\n",
            "188/188 [==============================] - 3s 18ms/step - loss: 0.0083 - accuracy: 0.9971 - val_loss: 0.0454 - val_accuracy: 0.9898\n"
          ]
        }
      ]
    },
    {
      "cell_type": "code",
      "source": [
        "best_model = load_model(model_path)\n",
        "best_model.evaluate(X_test,Y_test)"
      ],
      "metadata": {
        "colab": {
          "base_uri": "https://localhost:8080/"
        },
        "id": "DOR5K0mGlatP",
        "outputId": "d2aeddd1-95ac-418a-b5d9-a00a8ee4adc8"
      },
      "execution_count": 12,
      "outputs": [
        {
          "output_type": "stream",
          "name": "stdout",
          "text": [
            "313/313 [==============================] - 1s 3ms/step - loss: 0.0265 - accuracy: 0.9912\n"
          ]
        },
        {
          "output_type": "execute_result",
          "data": {
            "text/plain": [
              "[0.026541173458099365, 0.9911999702453613]"
            ]
          },
          "metadata": {},
          "execution_count": 12
        }
      ]
    },
    {
      "cell_type": "markdown",
      "source": [
        "- 학습 과정 시각화"
      ],
      "metadata": {
        "id": "ZoZZCOM5mkOj"
      }
    },
    {
      "cell_type": "code",
      "source": [
        "y_acc = hist.history['accuracy']\n",
        "y_vloss = hist.history['val_loss']\n",
        "xs = np.arange(1, len(y_acc)+1)"
      ],
      "metadata": {
        "id": "1K0s-4qomv3j"
      },
      "execution_count": 13,
      "outputs": []
    },
    {
      "cell_type": "code",
      "source": [
        "plt.figure(figsize=(12,6))\n",
        "plt.plot(xs, y_acc, label='train accuracy')\n",
        "plt.plot(xs, y_vloss, label='validation loss')\n",
        "plt.legend(), plt.grid(), plt.xlabel('epoch')\n",
        "plt.title('MNIST CNN Model v3')\n",
        "plt.show()"
      ],
      "metadata": {
        "colab": {
          "base_uri": "https://localhost:8080/",
          "height": 520
        },
        "id": "5YwaLHBEmco0",
        "outputId": "9d8823c4-59f4-4bdf-b6aa-a582ccd8df1c"
      },
      "execution_count": 14,
      "outputs": [
        {
          "output_type": "display_data",
          "data": {
            "text/plain": [
              "<Figure size 1200x600 with 1 Axes>"
            ],
            "image/png": "[encoded data removed]"
          },
          "metadata": {}
        }
      ]
    },
    {
      "cell_type": "code",
      "source": [],
      "metadata": {
        "id": "YVLWEyu4mycQ"
      },
      "execution_count": 14,
      "outputs": []
    }
  ]
}