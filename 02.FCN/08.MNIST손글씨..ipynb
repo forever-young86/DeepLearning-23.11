{
 "cells": [
  {
   "cell_type": "markdown",
   "metadata": {},
   "source": [
    "## MNIST 손글씨 다중분류 - FCN"
   ]
  },
  {
   "cell_type": "code",
   "execution_count": 1,
   "metadata": {},
   "outputs": [],
   "source": [
    "import numpy as np\n",
    "import pandas as pd\n",
    "import matplotlib.pyplot as plt\n",
    "import tensorflow as tf\n",
    "seed = 2023                \n",
    "np.random.seed(seed)\n",
    "tf.random.set_seed(seed)\n",
    "import warnings\n",
    "warnings.filterwarnings('ignore')"
   ]
  },
  {
   "cell_type": "markdown",
   "metadata": {},
   "source": [
    "- 데이터 전처리"
   ]
  },
  {
   "cell_type": "code",
   "execution_count": 2,
   "metadata": {},
   "outputs": [
    {
     "name": "stdout",
     "output_type": "stream",
     "text": [
      "Downloading data from https://storage.googleapis.com/tensorflow/tf-keras-datasets/mnist.npz\n",
      "11490434/11490434 [==============================] - 2s 0us/step\n"
     ]
    }
   ],
   "source": [
    "from tensorflow.keras.datasets import mnist\n",
    "(X_train, y_train), (X_test, y_test) = mnist.load_data()"
   ]
  },
  {
   "cell_type": "code",
   "execution_count": 3,
   "metadata": {},
   "outputs": [
    {
     "data": {
      "text/plain": [
       "((60000, 28, 28), (10000, 28, 28), (60000,), (10000,))"
      ]
     },
     "execution_count": 3,
     "metadata": {},
     "output_type": "execute_result"
    }
   ],
   "source": [
    "X_train.shape, X_test.shape, y_train.shape, y_test.shape        # 28, 28 => 2차원, FCN은 2차원을 못받기에 -1을 써서 차원을 바꿔준다 (밑에 reshape 참조)"
   ]
  },
  {
   "cell_type": "code",
   "execution_count": 4,
   "metadata": {},
   "outputs": [
    {
     "data": {
      "image/png": "[encoded data removed]",
      "text/plain": [
       "<Figure size 640x480 with 1 Axes>"
      ]
     },
     "metadata": {},
     "output_type": "display_data"
    }
   ],
   "source": [
    "plt.imshow(X_train[0], cmap='Greys');"
   ]
  },
  {
   "cell_type": "code",
   "execution_count": 5,
   "metadata": {},
   "outputs": [
    {
     "name": "stdout",
     "output_type": "stream",
     "text": [
      "  0   0   0   0   0   0   0   0   0   0   0   0   0   0   0   0   0   0   0   0   0   0   0   0   0   0   0   0 \n",
      "  0   0   0   0   0   0   0   0   0   0   0   0   0   0   0   0   0   0   0   0   0   0   0   0   0   0   0   0 \n",
      "  0   0   0   0   0   0   0   0   0   0   0   0   0   0   0   0   0   0   0   0   0   0   0   0   0   0   0   0 \n",
      "  0   0   0   0   0   0   0   0   0   0   0   0   0   0   0   0   0   0   0   0   0   0   0   0   0   0   0   0 \n",
      "  0   0   0   0   0   0   0   0   0   0   0   0   0   0   0   0   0   0   0   0   0   0   0   0   0   0   0   0 \n",
      "  0   0   0   0   0   0   0   0   0   0   0   0   3  18  18  18 126 136 175  26 166 255 247 127   0   0   0   0 \n",
      "  0   0   0   0   0   0   0   0  30  36  94 154 170 253 253 253 253 253 225 172 253 242 195  64   0   0   0   0 \n",
      "  0   0   0   0   0   0   0  49 238 253 253 253 253 253 253 253 253 251  93  82  82  56  39   0   0   0   0   0 \n",
      "  0   0   0   0   0   0   0  18 219 253 253 253 253 253 198 182 247 241   0   0   0   0   0   0   0   0   0   0 \n",
      "  0   0   0   0   0   0   0   0  80 156 107 253 253 205  11   0  43 154   0   0   0   0   0   0   0   0   0   0 \n",
      "  0   0   0   0   0   0   0   0   0  14   1 154 253  90   0   0   0   0   0   0   0   0   0   0   0   0   0   0 \n",
      "  0   0   0   0   0   0   0   0   0   0   0 139 253 190   2   0   0   0   0   0   0   0   0   0   0   0   0   0 \n",
      "  0   0   0   0   0   0   0   0   0   0   0  11 190 253  70   0   0   0   0   0   0   0   0   0   0   0   0   0 \n",
      "  0   0   0   0   0   0   0   0   0   0   0   0  35 241 225 160 108   1   0   0   0   0   0   0   0   0   0   0 \n",
      "  0   0   0   0   0   0   0   0   0   0   0   0   0  81 240 253 253 119  25   0   0   0   0   0   0   0   0   0 \n",
      "  0   0   0   0   0   0   0   0   0   0   0   0   0   0  45 186 253 253 150  27   0   0   0   0   0   0   0   0 \n",
      "  0   0   0   0   0   0   0   0   0   0   0   0   0   0   0  16  93 252 253 187   0   0   0   0   0   0   0   0 \n",
      "  0   0   0   0   0   0   0   0   0   0   0   0   0   0   0   0   0 249 253 249  64   0   0   0   0   0   0   0 \n",
      "  0   0   0   0   0   0   0   0   0   0   0   0   0   0  46 130 183 253 253 207   2   0   0   0   0   0   0   0 \n",
      "  0   0   0   0   0   0   0   0   0   0   0   0  39 148 229 253 253 253 250 182   0   0   0   0   0   0   0   0 \n",
      "  0   0   0   0   0   0   0   0   0   0  24 114 221 253 253 253 253 201  78   0   0   0   0   0   0   0   0   0 \n",
      "  0   0   0   0   0   0   0   0  23  66 213 253 253 253 253 198  81   2   0   0   0   0   0   0   0   0   0   0 \n",
      "  0   0   0   0   0   0  18 171 219 253 253 253 253 195  80   9   0   0   0   0   0   0   0   0   0   0   0   0 \n",
      "  0   0   0   0  55 172 226 253 253 253 253 244 133  11   0   0   0   0   0   0   0   0   0   0   0   0   0   0 \n",
      "  0   0   0   0 136 253 253 253 212 135 132  16   0   0   0   0   0   0   0   0   0   0   0   0   0   0   0   0 \n",
      "  0   0   0   0   0   0   0   0   0   0   0   0   0   0   0   0   0   0   0   0   0   0   0   0   0   0   0   0 \n",
      "  0   0   0   0   0   0   0   0   0   0   0   0   0   0   0   0   0   0   0   0   0   0   0   0   0   0   0   0 \n",
      "  0   0   0   0   0   0   0   0   0   0   0   0   0   0   0   0   0   0   0   0   0   0   0   0   0   0   0   0 \n"
     ]
    }
   ],
   "source": [
    "import sys\n",
    "for row in X_train[0]:\n",
    "    for x in row:\n",
    "        sys.stdout.write(f'{x:3d} ')\n",
    "    sys.stdout.write('\\n')          # 0은 까만색, 숫자가 높을수록 밝은색 (ex: 255 제일 밝은 색)"
   ]
  },
  {
   "cell_type": "code",
   "execution_count": 6,
   "metadata": {},
   "outputs": [],
   "source": [
    "# X scaling\n",
    "# 이미지 데이터는 0 ~ 1 사이의 값으로 스케일링\n",
    "X_train = X_train / 255.\n",
    "X_test = X_test / 255."
   ]
  },
  {
   "cell_type": "code",
   "execution_count": 7,
   "metadata": {},
   "outputs": [
    {
     "data": {
      "text/plain": [
       "((60000, 784), (10000, 784))"
      ]
     },
     "execution_count": 7,
     "metadata": {},
     "output_type": "execute_result"
    }
   ],
   "source": [
    "# Fully Connected Network(Dense layer)은 1차원 데이터만 처리 가능하므로 차원 축소\n",
    "X_train = X_train.reshape(-1, 784)      # 784 = 28*28\n",
    "X_test = X_test.reshape(-1, 784)\n",
    "X_train.shape, X_test.shape"
   ]
  },
  {
   "cell_type": "code",
   "execution_count": 8,
   "metadata": {},
   "outputs": [
    {
     "data": {
      "text/plain": [
       "(array([0, 1, 2, 3, 4, 5, 6, 7, 8, 9], dtype=uint8),\n",
       " array([5923, 6742, 5958, 6131, 5842, 5421, 5918, 6265, 5851, 5949],\n",
       "       dtype=int64))"
      ]
     },
     "execution_count": 8,
     "metadata": {},
     "output_type": "execute_result"
    }
   ],
   "source": [
    "# y 값읜 분포\n",
    "np.unique(y_train, return_counts=True)"
   ]
  },
  {
   "cell_type": "code",
   "execution_count": 9,
   "metadata": {},
   "outputs": [
    {
     "data": {
      "text/plain": [
       "((60000, 10), (10000, 10))"
      ]
     },
     "execution_count": 9,
     "metadata": {},
     "output_type": "execute_result"
    }
   ],
   "source": [
    "# One-hot encoding\n",
    "from tensorflow.keras.utils import to_categorical\n",
    "Y_train = to_categorical(y_train)\n",
    "Y_test = to_categorical(y_test)\n",
    "Y_train.shape, Y_test.shape"
   ]
  },
  {
   "cell_type": "markdown",
   "metadata": {},
   "source": [
    "- 모델 정의/설정/학습/평가"
   ]
  },
  {
   "cell_type": "code",
   "execution_count": 10,
   "metadata": {},
   "outputs": [],
   "source": [
    "from tensorflow.keras.models import Sequential, load_model\n",
    "from tensorflow.keras.layers import Dense, Dropout\n",
    "from tensorflow.keras.callbacks import ModelCheckpoint, EarlyStopping"
   ]
  },
  {
   "cell_type": "code",
   "execution_count": 11,
   "metadata": {},
   "outputs": [
    {
     "name": "stdout",
     "output_type": "stream",
     "text": [
      "Model: \"sequential\"\n",
      "_________________________________________________________________\n",
      " Layer (type)                Output Shape              Param #   \n",
      "=================================================================\n",
      " dense (Dense)               (None, 1000)              785000    \n",
      "                                                                 \n",
      " dropout (Dropout)           (None, 1000)              0         \n",
      "                                                                 \n",
      " dense_1 (Dense)             (None, 256)               256256    \n",
      "                                                                 \n",
      " dropout_1 (Dropout)         (None, 256)               0         \n",
      "                                                                 \n",
      " dense_2 (Dense)             (None, 48)                12336     \n",
      "                                                                 \n",
      " dense_3 (Dense)             (None, 10)                490       \n",
      "                                                                 \n",
      "=================================================================\n",
      "Total params: 1054082 (4.02 MB)\n",
      "Trainable params: 1054082 (4.02 MB)\n",
      "Non-trainable params: 0 (0.00 Byte)\n",
      "_________________________________________________________________\n"
     ]
    }
   ],
   "source": [
    "model = Sequential([\n",
    "    Dense(1000, input_dim=784, activation='relu'),\n",
    "    Dropout(0.25),      # 중간에 1/4 쉬게한다\n",
    "    Dense(256, activation='relu'),\n",
    "    Dropout(0.25),\n",
    "    Dense(48, activation='relu'),\n",
    "    Dense(10, activation='softmax')\n",
    "])\n",
    "model.summary()"
   ]
  },
  {
   "cell_type": "code",
   "execution_count": 12,
   "metadata": {},
   "outputs": [],
   "source": [
    "model.compile('adam', 'categorical_crossentropy', metrics=['accuracy'])"
   ]
  },
  {
   "cell_type": "code",
   "execution_count": 14,
   "metadata": {},
   "outputs": [
    {
     "name": "stdout",
     "output_type": "stream",
     "text": [
      "Epoch 1/100\n",
      "186/188 [============================>.] - ETA: 0s - loss: 0.3557 - accuracy: 0.8917\n",
      "Epoch 1: val_loss improved from inf to 0.13011, saving model to models\\best_mnist.h5\n",
      "188/188 [==============================] - 6s 26ms/step - loss: 0.3546 - accuracy: 0.8920 - val_loss: 0.1301 - val_accuracy: 0.9613\n",
      "Epoch 2/100\n",
      "187/188 [============================>.] - ETA: 0s - loss: 0.1292 - accuracy: 0.9612\n",
      "Epoch 2: val_loss improved from 0.13011 to 0.09153, saving model to models\\best_mnist.h5\n",
      "188/188 [==============================] - 5s 26ms/step - loss: 0.1292 - accuracy: 0.9612 - val_loss: 0.0915 - val_accuracy: 0.9707\n",
      "Epoch 3/100\n",
      "187/188 [============================>.] - ETA: 0s - loss: 0.0884 - accuracy: 0.9727\n",
      "Epoch 3: val_loss improved from 0.09153 to 0.08314, saving model to models\\best_mnist.h5\n",
      "188/188 [==============================] - 5s 25ms/step - loss: 0.0884 - accuracy: 0.9727 - val_loss: 0.0831 - val_accuracy: 0.9744\n",
      "Epoch 4/100\n",
      "186/188 [============================>.] - ETA: 0s - loss: 0.0664 - accuracy: 0.9795\n",
      "Epoch 4: val_loss did not improve from 0.08314\n",
      "188/188 [==============================] - 5s 25ms/step - loss: 0.0662 - accuracy: 0.9796 - val_loss: 0.0832 - val_accuracy: 0.9759\n",
      "Epoch 5/100\n",
      "187/188 [============================>.] - ETA: 0s - loss: 0.0550 - accuracy: 0.9823\n",
      "Epoch 5: val_loss improved from 0.08314 to 0.07383, saving model to models\\best_mnist.h5\n",
      "188/188 [==============================] - 5s 26ms/step - loss: 0.0549 - accuracy: 0.9823 - val_loss: 0.0738 - val_accuracy: 0.9786\n",
      "Epoch 6/100\n",
      "186/188 [============================>.] - ETA: 0s - loss: 0.0449 - accuracy: 0.9854\n",
      "Epoch 6: val_loss did not improve from 0.07383\n",
      "188/188 [==============================] - 5s 27ms/step - loss: 0.0451 - accuracy: 0.9853 - val_loss: 0.0768 - val_accuracy: 0.9772\n",
      "Epoch 7/100\n",
      "188/188 [==============================] - ETA: 0s - loss: 0.0393 - accuracy: 0.9871\n",
      "Epoch 7: val_loss did not improve from 0.07383\n",
      "188/188 [==============================] - 5s 26ms/step - loss: 0.0393 - accuracy: 0.9871 - val_loss: 0.0855 - val_accuracy: 0.9767\n",
      "Epoch 8/100\n",
      "187/188 [============================>.] - ETA: 0s - loss: 0.0323 - accuracy: 0.9892\n",
      "Epoch 8: val_loss did not improve from 0.07383\n",
      "188/188 [==============================] - 5s 28ms/step - loss: 0.0323 - accuracy: 0.9892 - val_loss: 0.0770 - val_accuracy: 0.9793\n",
      "Epoch 9/100\n",
      "187/188 [============================>.] - ETA: 0s - loss: 0.0292 - accuracy: 0.9904\n",
      "Epoch 9: val_loss did not improve from 0.07383\n",
      "188/188 [==============================] - 5s 25ms/step - loss: 0.0291 - accuracy: 0.9904 - val_loss: 0.0843 - val_accuracy: 0.9788\n",
      "Epoch 10/100\n",
      "188/188 [==============================] - ETA: 0s - loss: 0.0266 - accuracy: 0.9912\n",
      "Epoch 10: val_loss did not improve from 0.07383\n",
      "188/188 [==============================] - 4s 22ms/step - loss: 0.0266 - accuracy: 0.9912 - val_loss: 0.0818 - val_accuracy: 0.9783\n"
     ]
    }
   ],
   "source": [
    "mc = ModelCheckpoint('models/best_mnist.h5', verbose=1, save_best_only=True)\n",
    "es = EarlyStopping(patience=5)\n",
    "hist = model.fit(X_train, Y_train, validation_split=0.2, \n",
    "                 epochs=100, batch_size=256, verbose=1, \n",
    "                 callbacks=[mc, es])"
   ]
  },
  {
   "cell_type": "code",
   "execution_count": 15,
   "metadata": {},
   "outputs": [
    {
     "name": "stdout",
     "output_type": "stream",
     "text": [
      "313/313 [==============================] - 1s 3ms/step - loss: 0.0627 - accuracy: 0.9808\n"
     ]
    },
    {
     "data": {
      "text/plain": [
       "[0.06272991001605988, 0.9807999730110168]"
      ]
     },
     "execution_count": 15,
     "metadata": {},
     "output_type": "execute_result"
    }
   ],
   "source": [
    "best_model = load_model('models/best_mnist.h5')\n",
    "best_model.evaluate(X_test, Y_test)"
   ]
  },
  {
   "cell_type": "markdown",
   "metadata": {},
   "source": [
    "- 시각화"
   ]
  },
  {
   "cell_type": "code",
   "execution_count": 16,
   "metadata": {},
   "outputs": [
    {
     "data": {
      "image/png": "[encoded data removed]",
      "text/plain": [
       "<Figure size 1200x600 with 1 Axes>"
      ]
     },
     "metadata": {},
     "output_type": "display_data"
    }
   ],
   "source": [
    "y_acc = hist.history['accuracy']\n",
    "y_vloss = hist.history['val_loss']\n",
    "xs = np.arange(1, len(y_acc)+1)\n",
    "\n",
    "plt.figure(figsize=(12,6))\n",
    "plt.plot(xs, y_acc, label='train accuracy')\n",
    "plt.plot(xs, y_vloss, label='validation loss')\n",
    "plt.legend(), plt.grid(), plt.xlabel('epoch')\n",
    "plt.show()"
   ]
  },
  {
   "cell_type": "code",
   "execution_count": 17,
   "metadata": {},
   "outputs": [
    {
     "name": "stdout",
     "output_type": "stream",
     "text": [
      "Model: \"sequential_1\"\n",
      "_________________________________________________________________\n",
      " Layer (type)                Output Shape              Param #   \n",
      "=================================================================\n",
      " dense_4 (Dense)             (None, 1000)              785000    \n",
      "                                                                 \n",
      " dense_5 (Dense)             (None, 256)               256256    \n",
      "                                                                 \n",
      " dense_6 (Dense)             (None, 48)                12336     \n",
      "                                                                 \n",
      " dense_7 (Dense)             (None, 10)                490       \n",
      "                                                                 \n",
      "=================================================================\n",
      "Total params: 1054082 (4.02 MB)\n",
      "Trainable params: 1054082 (4.02 MB)\n",
      "Non-trainable params: 0 (0.00 Byte)\n",
      "_________________________________________________________________\n"
     ]
    }
   ],
   "source": [
    "model2 = Sequential([\n",
    "    Dense(1000, input_dim=784, activation='relu'),\n",
    "    Dense(256, activation='relu'),\n",
    "    Dense(48, activation='relu'),\n",
    "    Dense(10, activation='softmax')\n",
    "])\n",
    "model2.summary()"
   ]
  },
  {
   "cell_type": "code",
   "execution_count": 18,
   "metadata": {},
   "outputs": [],
   "source": [
    "model2.compile('adam', 'categorical_crossentropy', metrics=['accuracy'])"
   ]
  },
  {
   "cell_type": "code",
   "execution_count": 19,
   "metadata": {},
   "outputs": [
    {
     "name": "stdout",
     "output_type": "stream",
     "text": [
      "Epoch 1/100\n",
      "188/188 [==============================] - ETA: 0s - loss: 0.3059 - accuracy: 0.9104\n",
      "Epoch 1: val_loss improved from inf to 0.13646, saving model to models\\best_mnist.h5\n",
      "188/188 [==============================] - 5s 24ms/step - loss: 0.3059 - accuracy: 0.9104 - val_loss: 0.1365 - val_accuracy: 0.9611\n",
      "Epoch 2/100\n",
      "187/188 [============================>.] - ETA: 0s - loss: 0.1021 - accuracy: 0.9697\n",
      "Epoch 2: val_loss improved from 0.13646 to 0.08952, saving model to models\\best_mnist.h5\n",
      "188/188 [==============================] - 4s 23ms/step - loss: 0.1019 - accuracy: 0.9698 - val_loss: 0.0895 - val_accuracy: 0.9722\n",
      "Epoch 3/100\n",
      "188/188 [==============================] - ETA: 0s - loss: 0.0607 - accuracy: 0.9815\n",
      "Epoch 3: val_loss improved from 0.08952 to 0.08268, saving model to models\\best_mnist.h5\n",
      "188/188 [==============================] - 4s 22ms/step - loss: 0.0607 - accuracy: 0.9815 - val_loss: 0.0827 - val_accuracy: 0.9742\n",
      "Epoch 4/100\n",
      "186/188 [============================>.] - ETA: 0s - loss: 0.0403 - accuracy: 0.9878\n",
      "Epoch 4: val_loss did not improve from 0.08268\n",
      "188/188 [==============================] - 4s 22ms/step - loss: 0.0402 - accuracy: 0.9879 - val_loss: 0.0868 - val_accuracy: 0.9751\n",
      "Epoch 5/100\n",
      "188/188 [==============================] - ETA: 0s - loss: 0.0281 - accuracy: 0.9912\n",
      "Epoch 5: val_loss improved from 0.08268 to 0.07933, saving model to models\\best_mnist.h5\n",
      "188/188 [==============================] - 4s 23ms/step - loss: 0.0281 - accuracy: 0.9912 - val_loss: 0.0793 - val_accuracy: 0.9770\n",
      "Epoch 6/100\n",
      "186/188 [============================>.] - ETA: 0s - loss: 0.0220 - accuracy: 0.9930\n",
      "Epoch 6: val_loss did not improve from 0.07933\n",
      "188/188 [==============================] - 4s 22ms/step - loss: 0.0220 - accuracy: 0.9931 - val_loss: 0.0829 - val_accuracy: 0.9774\n",
      "Epoch 7/100\n",
      "187/188 [============================>.] - ETA: 0s - loss: 0.0154 - accuracy: 0.9954\n",
      "Epoch 7: val_loss did not improve from 0.07933\n",
      "188/188 [==============================] - 4s 23ms/step - loss: 0.0154 - accuracy: 0.9954 - val_loss: 0.0942 - val_accuracy: 0.9770\n",
      "Epoch 8/100\n",
      "188/188 [==============================] - ETA: 0s - loss: 0.0137 - accuracy: 0.9954\n",
      "Epoch 8: val_loss did not improve from 0.07933\n",
      "188/188 [==============================] - 4s 23ms/step - loss: 0.0137 - accuracy: 0.9954 - val_loss: 0.1041 - val_accuracy: 0.9741\n",
      "Epoch 9/100\n",
      "186/188 [============================>.] - ETA: 0s - loss: 0.0148 - accuracy: 0.9954\n",
      "Epoch 9: val_loss did not improve from 0.07933\n",
      "188/188 [==============================] - 4s 22ms/step - loss: 0.0148 - accuracy: 0.9954 - val_loss: 0.0827 - val_accuracy: 0.9795\n",
      "Epoch 10/100\n",
      "186/188 [============================>.] - ETA: 0s - loss: 0.0104 - accuracy: 0.9967\n",
      "Epoch 10: val_loss did not improve from 0.07933\n",
      "188/188 [==============================] - 4s 22ms/step - loss: 0.0105 - accuracy: 0.9966 - val_loss: 0.1151 - val_accuracy: 0.9737\n"
     ]
    }
   ],
   "source": [
    "mc2 = ModelCheckpoint('models/best_mnist.h5', verbose=1, save_best_only=True)\n",
    "es2 = EarlyStopping(patience=5)\n",
    "hist2 = model2.fit(X_train, Y_train, validation_split=0.2, \n",
    "                 epochs=100, batch_size=256, verbose=1, \n",
    "                 callbacks=[mc2, es2])"
   ]
  },
  {
   "cell_type": "code",
   "execution_count": 21,
   "metadata": {},
   "outputs": [
    {
     "name": "stdout",
     "output_type": "stream",
     "text": [
      "313/313 [==============================] - 1s 3ms/step - loss: 0.0667 - accuracy: 0.9804\n"
     ]
    },
    {
     "data": {
      "text/plain": [
       "[0.06673404574394226, 0.980400025844574]"
      ]
     },
     "execution_count": 21,
     "metadata": {},
     "output_type": "execute_result"
    }
   ],
   "source": [
    "best_model2 = load_model('models/best_mnist.h5')\n",
    "best_model2.evaluate(X_test, Y_test)"
   ]
  },
  {
   "cell_type": "code",
   "execution_count": 22,
   "metadata": {},
   "outputs": [
    {
     "data": {
      "image/png": "[encoded data removed]",
      "text/plain": [
       "<Figure size 1200x600 with 1 Axes>"
      ]
     },
     "metadata": {},
     "output_type": "display_data"
    }
   ],
   "source": [
    "y_acc2 = hist.history['accuracy']\n",
    "y_vloss2 = hist.history['val_loss']\n",
    "xs = np.arange(1, len(y_acc2)+1)\n",
    "\n",
    "plt.figure(figsize=(12,6))\n",
    "plt.plot(xs, y_acc2, label='train accuracy')\n",
    "plt.plot(xs, y_vloss2, label='validation loss')\n",
    "plt.legend(), plt.grid(), plt.xlabel('epoch')\n",
    "plt.show()"
   ]
  },
  {
   "cell_type": "code",
   "execution_count": null,
   "metadata": {},
   "outputs": [],
   "source": []
  }
 ],
 "metadata": {
  "kernelspec": {
   "display_name": "base",
   "language": "python",
   "name": "python3"
  },
  "language_info": {
   "codemirror_mode": {
    "name": "ipython",
    "version": 3
   },
   "file_extension": ".py",
   "mimetype": "text/x-python",
   "name": "python",
   "nbconvert_exporter": "python",
   "pygments_lexer": "ipython3",
   "version": "3.11.4"
  }
 },
 "nbformat": 4,
 "nbformat_minor": 2
}
