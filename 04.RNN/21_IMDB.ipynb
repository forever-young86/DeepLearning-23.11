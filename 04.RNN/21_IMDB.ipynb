{
  "nbformat": 4,
  "nbformat_minor": 0,
  "metadata": {
    "colab": {
      "provenance": [],
      "gpuType": "T4"
    },
    "kernelspec": {
      "name": "python3",
      "display_name": "Python 3"
    },
    "language_info": {
      "name": "python"
    },
    "accelerator": "GPU"
  },
  "cells": [
    {
      "cell_type": "markdown",
      "source": [
        "## IMDB 영화리뷰 감성분석"
      ],
      "metadata": {
        "id": "ftZ5MCH8CZlm"
      }
    },
    {
      "cell_type": "code",
      "execution_count": 1,
      "metadata": {
        "id": "qHLZg6p7CQrk"
      },
      "outputs": [],
      "source": [
        "import numpy as np\n",
        "import tensorflow as tf\n",
        "seed = 2023\n",
        "np.random.seed(seed)\n",
        "tf.random.set_seed(seed)"
      ]
    },
    {
      "cell_type": "code",
      "source": [
        "from tensorflow.keras.datasets import imdb\n",
        "(X_train, y_train), (X_test, y_test) = imdb.load_data()"
      ],
      "metadata": {
        "colab": {
          "base_uri": "https://localhost:8080/"
        },
        "id": "QwJkLiy3Cot6",
        "outputId": "e757dfef-601b-4b6c-cf7a-f7b9de635ce9"
      },
      "execution_count": 2,
      "outputs": [
        {
          "output_type": "stream",
          "name": "stdout",
          "text": [
            "Downloading data from https://storage.googleapis.com/tensorflow/tf-keras-datasets/imdb.npz\n",
            "17464789/17464789 [==============================] - 0s 0us/step\n"
          ]
        }
      ]
    },
    {
      "cell_type": "code",
      "source": [
        "len(X_train), len(X_test)"
      ],
      "metadata": {
        "colab": {
          "base_uri": "https://localhost:8080/"
        },
        "id": "TexmvpkzC8sr",
        "outputId": "b7ca3242-4f2d-4f6a-8b96-b6655e692555"
      },
      "execution_count": 3,
      "outputs": [
        {
          "output_type": "execute_result",
          "data": {
            "text/plain": [
              "(25000, 25000)"
            ]
          },
          "metadata": {},
          "execution_count": 3
        }
      ]
    },
    {
      "cell_type": "code",
      "source": [
        "# 등장한 단어수 (고유 단어수)\n",
        "len(imdb.get_word_index())"
      ],
      "metadata": {
        "colab": {
          "base_uri": "https://localhost:8080/"
        },
        "id": "ftz9Nv87DCpk",
        "outputId": "8dce81c8-806b-47e4-e32c-f797706355b6"
      },
      "execution_count": 4,
      "outputs": [
        {
          "output_type": "stream",
          "name": "stdout",
          "text": [
            "Downloading data from https://storage.googleapis.com/tensorflow/tf-keras-datasets/imdb_word_index.json\n",
            "1641221/1641221 [==============================] - 0s 0us/step\n"
          ]
        },
        {
          "output_type": "execute_result",
          "data": {
            "text/plain": [
              "88584"
            ]
          },
          "metadata": {},
          "execution_count": 4
        }
      ]
    },
    {
      "cell_type": "code",
      "source": [
        "print(X_train[0])"
      ],
      "metadata": {
        "colab": {
          "base_uri": "https://localhost:8080/"
        },
        "id": "ZJVPkv81DoP_",
        "outputId": "f354fd21-590e-4315-f0e1-9eb6017a164f"
      },
      "execution_count": 5,
      "outputs": [
        {
          "output_type": "stream",
          "name": "stdout",
          "text": [
            "[1, 14, 22, 16, 43, 530, 973, 1622, 1385, 65, 458, 4468, 66, 3941, 4, 173, 36, 256, 5, 25, 100, 43, 838, 112, 50, 670, 22665, 9, 35, 480, 284, 5, 150, 4, 172, 112, 167, 21631, 336, 385, 39, 4, 172, 4536, 1111, 17, 546, 38, 13, 447, 4, 192, 50, 16, 6, 147, 2025, 19, 14, 22, 4, 1920, 4613, 469, 4, 22, 71, 87, 12, 16, 43, 530, 38, 76, 15, 13, 1247, 4, 22, 17, 515, 17, 12, 16, 626, 18, 19193, 5, 62, 386, 12, 8, 316, 8, 106, 5, 4, 2223, 5244, 16, 480, 66, 3785, 33, 4, 130, 12, 16, 38, 619, 5, 25, 124, 51, 36, 135, 48, 25, 1415, 33, 6, 22, 12, 215, 28, 77, 52, 5, 14, 407, 16, 82, 10311, 8, 4, 107, 117, 5952, 15, 256, 4, 31050, 7, 3766, 5, 723, 36, 71, 43, 530, 476, 26, 400, 317, 46, 7, 4, 12118, 1029, 13, 104, 88, 4, 381, 15, 297, 98, 32, 2071, 56, 26, 141, 6, 194, 7486, 18, 4, 226, 22, 21, 134, 476, 26, 480, 5, 144, 30, 5535, 18, 51, 36, 28, 224, 92, 25, 104, 4, 226, 65, 16, 38, 1334, 88, 12, 16, 283, 5, 16, 4472, 113, 103, 32, 15, 16, 5345, 19, 178, 32]\n"
          ]
        }
      ]
    },
    {
      "cell_type": "code",
      "source": [
        "# 리뷰 최대/평균 길이\n",
        "max(len(s) for s in X_train), sum(len(s) for s in X_train) / len(X_train)"
      ],
      "metadata": {
        "colab": {
          "base_uri": "https://localhost:8080/"
        },
        "id": "w1hcpnwwDWri",
        "outputId": "b4722e37-9efd-49c6-a067-31396cc228cf"
      },
      "execution_count": 6,
      "outputs": [
        {
          "output_type": "execute_result",
          "data": {
            "text/plain": [
              "(2494, 238.71364)"
            ]
          },
          "metadata": {},
          "execution_count": 6
        }
      ]
    },
    {
      "cell_type": "markdown",
      "source": [
        "#### 1. LSTM으로 감성분석\n",
        "- 단어 빈도수 기준 많이 사용되는 10,000 단어만 사용\n",
        "- 한 문장의 단어수 : 200"
      ],
      "metadata": {
        "id": "CqJu71esE5A_"
      }
    },
    {
      "cell_type": "code",
      "source": [
        "from tensorflow.keras.models import Sequential, load_model\n",
        "from tensorflow.keras.layers import Embedding, LSTM, Dense\n",
        "from tensorflow.keras.callbacks import ModelCheckpoint, EarlyStopping\n",
        "from tensorflow.keras.preprocessing.sequence import pad_sequences"
      ],
      "metadata": {
        "id": "0xWVl7m7D3bx"
      },
      "execution_count": 7,
      "outputs": []
    },
    {
      "cell_type": "code",
      "source": [
        "num_words = 10000\n",
        "(X_train, y_train), (X_test, y_test) = imdb.load_data(num_words=num_words)"
      ],
      "metadata": {
        "id": "gTyI_mPZF8Hs"
      },
      "execution_count": 8,
      "outputs": []
    },
    {
      "cell_type": "code",
      "source": [
        "max_len = 200\n",
        "X_train = pad_sequences(X_train, maxlen=max_len)\n",
        "X_test = pad_sequences(X_test, maxlen=max_len)\n",
        "X_train.shape, X_test.shape"
      ],
      "metadata": {
        "colab": {
          "base_uri": "https://localhost:8080/"
        },
        "id": "hNas7HaoGOjb",
        "outputId": "adb91dae-80ca-40ca-f4b7-6642fac5ee5c"
      },
      "execution_count": 9,
      "outputs": [
        {
          "output_type": "execute_result",
          "data": {
            "text/plain": [
              "((25000, 200), (25000, 200))"
            ]
          },
          "metadata": {},
          "execution_count": 9
        }
      ]
    },
    {
      "cell_type": "markdown",
      "source": [
        "- 모델\n",
        "  - Embedding vector size: 100\n",
        "  - LSTM node 수:128"
      ],
      "metadata": {
        "id": "OuQ_iC3uG94g"
      }
    },
    {
      "cell_type": "code",
      "source": [
        "model = Sequential([\n",
        "    Embedding(num_words, 100, input_length=max_len),\n",
        "    LSTM(128),    # activation=tahn 은 디폴트로 잡혀있어 생략가능\n",
        "    Dense(1, activation='sigmoid')\n",
        "])\n",
        "model.summary()"
      ],
      "metadata": {
        "colab": {
          "base_uri": "https://localhost:8080/"
        },
        "id": "VKIaKLzxGk-J",
        "outputId": "b8b70265-f659-4f9e-d8ae-262bfadd0355"
      },
      "execution_count": 10,
      "outputs": [
        {
          "output_type": "stream",
          "name": "stdout",
          "text": [
            "Model: \"sequential\"\n",
            "_________________________________________________________________\n",
            " Layer (type)                Output Shape              Param #   \n",
            "=================================================================\n",
            " embedding (Embedding)       (None, 200, 100)          1000000   \n",
            "                                                                 \n",
            " lstm (LSTM)                 (None, 128)               117248    \n",
            "                                                                 \n",
            " dense (Dense)               (None, 1)                 129       \n",
            "                                                                 \n",
            "=================================================================\n",
            "Total params: 1117377 (4.26 MB)\n",
            "Trainable params: 1117377 (4.26 MB)\n",
            "Non-trainable params: 0 (0.00 Byte)\n",
            "_________________________________________________________________\n"
          ]
        }
      ]
    },
    {
      "cell_type": "code",
      "source": [
        "model.compile('adam', 'binary_crossentropy', ['accuracy'])\n",
        "\n",
        "model_path = 'best-imdb-lstm.h5'\n",
        "mc = ModelCheckpoint(model_path, save_best_only=True, verbose=1)\n",
        "es = EarlyStopping(patience=5)"
      ],
      "metadata": {
        "id": "-ybmCr3YHsGW"
      },
      "execution_count": 11,
      "outputs": []
    },
    {
      "cell_type": "code",
      "source": [
        "hist = model.fit(\n",
        "    X_train, y_train, validation_split=0.2,epochs=30, batch_size=64, callbacks=[mc,es]\n",
        ")"
      ],
      "metadata": {
        "colab": {
          "base_uri": "https://localhost:8080/"
        },
        "id": "_StNkMc4IMzx",
        "outputId": "5902e09d-6774-4e8c-e8c0-b23161f0e989"
      },
      "execution_count": 12,
      "outputs": [
        {
          "output_type": "stream",
          "name": "stdout",
          "text": [
            "Epoch 1/30\n",
            "313/313 [==============================] - ETA: 0s - loss: 0.4824 - accuracy: 0.7571\n",
            "Epoch 1: val_loss improved from inf to 0.41379, saving model to best-imdb-lstm.h5\n",
            "313/313 [==============================] - 48s 130ms/step - loss: 0.4824 - accuracy: 0.7571 - val_loss: 0.4138 - val_accuracy: 0.8110\n",
            "Epoch 2/30\n",
            "  1/313 [..............................] - ETA: 4s - loss: 0.3438 - accuracy: 0.9062"
          ]
        },
        {
          "output_type": "stream",
          "name": "stderr",
          "text": [
            "/usr/local/lib/python3.10/dist-packages/keras/src/engine/training.py:3079: UserWarning: You are saving your model as an HDF5 file via `model.save()`. This file format is considered legacy. We recommend using instead the native Keras format, e.g. `model.save('my_model.keras')`.\n",
            "  saving_api.save_model(\n"
          ]
        },
        {
          "output_type": "stream",
          "name": "stdout",
          "text": [
            "313/313 [==============================] - ETA: 0s - loss: 0.2548 - accuracy: 0.8982\n",
            "Epoch 2: val_loss improved from 0.41379 to 0.30218, saving model to best-imdb-lstm.h5\n",
            "313/313 [==============================] - 18s 56ms/step - loss: 0.2548 - accuracy: 0.8982 - val_loss: 0.3022 - val_accuracy: 0.8778\n",
            "Epoch 3/30\n",
            "313/313 [==============================] - ETA: 0s - loss: 0.1769 - accuracy: 0.9360\n",
            "Epoch 3: val_loss did not improve from 0.30218\n",
            "313/313 [==============================] - 11s 34ms/step - loss: 0.1769 - accuracy: 0.9360 - val_loss: 0.3295 - val_accuracy: 0.8692\n",
            "Epoch 4/30\n",
            "313/313 [==============================] - ETA: 0s - loss: 0.1319 - accuracy: 0.9518\n",
            "Epoch 4: val_loss did not improve from 0.30218\n",
            "313/313 [==============================] - 7s 23ms/step - loss: 0.1319 - accuracy: 0.9518 - val_loss: 0.3684 - val_accuracy: 0.8676\n",
            "Epoch 5/30\n",
            "313/313 [==============================] - ETA: 0s - loss: 0.1885 - accuracy: 0.9199\n",
            "Epoch 5: val_loss did not improve from 0.30218\n",
            "313/313 [==============================] - 7s 22ms/step - loss: 0.1885 - accuracy: 0.9199 - val_loss: 0.4681 - val_accuracy: 0.8644\n",
            "Epoch 6/30\n",
            "313/313 [==============================] - ETA: 0s - loss: 0.1480 - accuracy: 0.9449\n",
            "Epoch 6: val_loss did not improve from 0.30218\n",
            "313/313 [==============================] - 5s 17ms/step - loss: 0.1480 - accuracy: 0.9449 - val_loss: 0.4552 - val_accuracy: 0.8378\n",
            "Epoch 7/30\n",
            "313/313 [==============================] - ETA: 0s - loss: 0.0946 - accuracy: 0.9659\n",
            "Epoch 7: val_loss did not improve from 0.30218\n",
            "313/313 [==============================] - 7s 23ms/step - loss: 0.0946 - accuracy: 0.9659 - val_loss: 0.4794 - val_accuracy: 0.8468\n"
          ]
        }
      ]
    },
    {
      "cell_type": "code",
      "source": [
        "best_model = load_model(model_path)\n",
        "best_model.evaluate(X_test, y_test)"
      ],
      "metadata": {
        "colab": {
          "base_uri": "https://localhost:8080/"
        },
        "id": "_Onzph3uM9rk",
        "outputId": "3f02f3d6-dfe6-4a47-9b59-294fc9f0ec15"
      },
      "execution_count": 13,
      "outputs": [
        {
          "output_type": "stream",
          "name": "stdout",
          "text": [
            "782/782 [==============================] - 5s 5ms/step - loss: 0.3138 - accuracy: 0.8691\n"
          ]
        },
        {
          "output_type": "execute_result",
          "data": {
            "text/plain": [
              "[0.31380847096443176, 0.8691200017929077]"
            ]
          },
          "metadata": {},
          "execution_count": 13
        }
      ]
    },
    {
      "cell_type": "markdown",
      "source": [
        "##### 2. Conv1D로 학습"
      ],
      "metadata": {
        "id": "ddIOtc8VNGbE"
      }
    },
    {
      "cell_type": "code",
      "source": [
        "from tensorflow.keras.layers import Conv1D, MaxPooling1D, GlobalMaxPooling1D, Dropout"
      ],
      "metadata": {
        "id": "fT1_ckLrNDH_"
      },
      "execution_count": 14,
      "outputs": []
    },
    {
      "cell_type": "code",
      "source": [
        "model2 = Sequential([\n",
        "    Embedding(num_words, 100, input_length=max_len),\n",
        "    Dropout(0.5),\n",
        "    Conv1D(64, 7, activation='relu'),\n",
        "    MaxPooling1D(7),\n",
        "    Conv1D(64, 5, activation='relu'),\n",
        "    MaxPooling1D(5),\n",
        "    GlobalMaxPooling1D(),\n",
        "    Dense(1, 'sigmoid')\n",
        "])\n",
        "model2.summary()"
      ],
      "metadata": {
        "colab": {
          "base_uri": "https://localhost:8080/"
        },
        "id": "lh0w6QTBNSNY",
        "outputId": "ef2370db-4e26-47a6-cce0-1cdd12319ce0"
      },
      "execution_count": 17,
      "outputs": [
        {
          "output_type": "stream",
          "name": "stdout",
          "text": [
            "Model: \"sequential_1\"\n",
            "_________________________________________________________________\n",
            " Layer (type)                Output Shape              Param #   \n",
            "=================================================================\n",
            " embedding_1 (Embedding)     (None, 200, 100)          1000000   \n",
            "                                                                 \n",
            " dropout (Dropout)           (None, 200, 100)          0         \n",
            "                                                                 \n",
            " conv1d (Conv1D)             (None, 194, 64)           44864     \n",
            "                                                                 \n",
            " max_pooling1d (MaxPooling1  (None, 27, 64)            0         \n",
            " D)                                                              \n",
            "                                                                 \n",
            " conv1d_1 (Conv1D)           (None, 23, 64)            20544     \n",
            "                                                                 \n",
            " max_pooling1d_1 (MaxPoolin  (None, 4, 64)             0         \n",
            " g1D)                                                            \n",
            "                                                                 \n",
            " global_max_pooling1d (Glob  (None, 64)                0         \n",
            " alMaxPooling1D)                                                 \n",
            "                                                                 \n",
            " dense_1 (Dense)             (None, 1)                 65        \n",
            "                                                                 \n",
            "=================================================================\n",
            "Total params: 1065473 (4.06 MB)\n",
            "Trainable params: 1065473 (4.06 MB)\n",
            "Non-trainable params: 0 (0.00 Byte)\n",
            "_________________________________________________________________\n"
          ]
        }
      ]
    },
    {
      "cell_type": "code",
      "source": [
        "model2.compile('adam', 'binary_crossentropy', ['accuracy'])\n",
        "\n",
        "model_path2 = 'best-imdb-conv1d.h5'\n",
        "mc2 = ModelCheckpoint(model_path2, save_best_only=True, verbose=1)\n",
        "es2 = EarlyStopping(patience=5)"
      ],
      "metadata": {
        "id": "mYrCytGLN3g0"
      },
      "execution_count": 21,
      "outputs": []
    },
    {
      "cell_type": "code",
      "source": [
        "hist2 = model2.fit(\n",
        "    X_train, y_train, validation_split=0.2,epochs=30, batch_size=64, callbacks=[mc2,es2]\n",
        ")"
      ],
      "metadata": {
        "colab": {
          "base_uri": "https://localhost:8080/"
        },
        "id": "fz0lKk3WOJul",
        "outputId": "515317e5-9a1b-48fc-d775-ad9750d0784a"
      },
      "execution_count": 22,
      "outputs": [
        {
          "output_type": "stream",
          "name": "stdout",
          "text": [
            "Epoch 1/30\n",
            "313/313 [==============================] - ETA: 0s - loss: 0.0289 - accuracy: 0.9894\n",
            "Epoch 1: val_loss improved from inf to 0.80582, saving model to best-imdb-conv1d.h5\n",
            "313/313 [==============================] - 26s 80ms/step - loss: 0.0289 - accuracy: 0.9894 - val_loss: 0.8058 - val_accuracy: 0.8384\n",
            "Epoch 2/30\n",
            "  3/313 [..............................] - ETA: 17s - loss: 0.0179 - accuracy: 0.9896"
          ]
        },
        {
          "output_type": "stream",
          "name": "stderr",
          "text": [
            "/usr/local/lib/python3.10/dist-packages/keras/src/engine/training.py:3079: UserWarning: You are saving your model as an HDF5 file via `model.save()`. This file format is considered legacy. We recommend using instead the native Keras format, e.g. `model.save('my_model.keras')`.\n",
            "  saving_api.save_model(\n"
          ]
        },
        {
          "output_type": "stream",
          "name": "stdout",
          "text": [
            "313/313 [==============================] - ETA: 0s - loss: 0.0127 - accuracy: 0.9958\n",
            "Epoch 2: val_loss did not improve from 0.80582\n",
            "313/313 [==============================] - 11s 35ms/step - loss: 0.0127 - accuracy: 0.9958 - val_loss: 1.0101 - val_accuracy: 0.8372\n",
            "Epoch 3/30\n",
            "313/313 [==============================] - ETA: 0s - loss: 0.0080 - accuracy: 0.9969\n",
            "Epoch 3: val_loss did not improve from 0.80582\n",
            "313/313 [==============================] - 6s 19ms/step - loss: 0.0080 - accuracy: 0.9969 - val_loss: 1.0610 - val_accuracy: 0.8388\n",
            "Epoch 4/30\n",
            "313/313 [==============================] - ETA: 0s - loss: 0.0107 - accuracy: 0.9959\n",
            "Epoch 4: val_loss did not improve from 0.80582\n",
            "313/313 [==============================] - 5s 15ms/step - loss: 0.0107 - accuracy: 0.9959 - val_loss: 1.2557 - val_accuracy: 0.8300\n",
            "Epoch 5/30\n",
            "313/313 [==============================] - ETA: 0s - loss: 0.0152 - accuracy: 0.9940\n",
            "Epoch 5: val_loss did not improve from 0.80582\n",
            "313/313 [==============================] - 5s 14ms/step - loss: 0.0152 - accuracy: 0.9940 - val_loss: 1.2495 - val_accuracy: 0.8362\n",
            "Epoch 6/30\n",
            "313/313 [==============================] - ETA: 0s - loss: 0.0232 - accuracy: 0.9913\n",
            "Epoch 6: val_loss did not improve from 0.80582\n",
            "313/313 [==============================] - 3s 10ms/step - loss: 0.0232 - accuracy: 0.9913 - val_loss: 1.1657 - val_accuracy: 0.8390\n"
          ]
        }
      ]
    },
    {
      "cell_type": "code",
      "source": [
        "best_model2 = load_model(model_path2)\n",
        "best_model2.evaluate(X_test, y_test)"
      ],
      "metadata": {
        "colab": {
          "base_uri": "https://localhost:8080/"
        },
        "id": "kcf6dVQcOmLc",
        "outputId": "174b55a9-5b29-43b0-9d40-08cd23b30282"
      },
      "execution_count": 23,
      "outputs": [
        {
          "output_type": "stream",
          "name": "stdout",
          "text": [
            "782/782 [==============================] - 2s 3ms/step - loss: 0.8912 - accuracy: 0.8133\n"
          ]
        },
        {
          "output_type": "execute_result",
          "data": {
            "text/plain": [
              "[0.8912216424942017, 0.813319981098175]"
            ]
          },
          "metadata": {},
          "execution_count": 23
        }
      ]
    }
  ]
}